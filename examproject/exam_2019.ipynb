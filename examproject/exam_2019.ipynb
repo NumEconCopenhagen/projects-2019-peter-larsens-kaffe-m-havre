{
 "cells": [
  {
   "cell_type": "code",
   "execution_count": 1,
   "metadata": {},
   "outputs": [],
   "source": [
    "# Download standard packages used in several of the questions in the exam.\n",
    "import numpy as np\n",
    "import matplotlib.pyplot as plt"
   ]
  },
  {
   "cell_type": "markdown",
   "metadata": {},
   "source": [
    "# 1. Human capital accumulation"
   ]
  },
  {
   "cell_type": "markdown",
   "metadata": {},
   "source": [
    "Consider a worker living in **two periods**, $t \\in \\{1,2\\}$. \n",
    "\n",
    "In each period she decides whether to **work ($l_t = 1$) or not ($l_t = 0$)**. \n",
    "\n",
    "She can *not* borrow or save and thus **consumes all of her income** in each period. "
   ]
  },
  {
   "cell_type": "markdown",
   "metadata": {},
   "source": [
    "If she **works** her **consumption** becomes:\n",
    "\n",
    "$$c_t = w h_t l_t\\,\\,\\text{if}\\,\\,l_t=1$$\n",
    "\n",
    "where $w$ is **the wage rate** and $h_t$ is her **human capital**. \n",
    "\n",
    "If she does **not work** her consumption becomes:\n",
    "\n",
    "$$c_t = b\\,\\,\\text{if}\\,\\,l_t=0$$\n",
    "\n",
    "where $b$ is the **unemployment benefits**."
   ]
  },
  {
   "cell_type": "markdown",
   "metadata": {},
   "source": [
    "Her **utility of consumption** is: \n",
    "\n",
    "$$ \\frac{c_t^{1-\\rho}}{1-\\rho} $$\n",
    "\n",
    "Her **disutility of working** is:\n",
    "\n",
    "$$ \\gamma l_t $$"
   ]
  },
  {
   "cell_type": "markdown",
   "metadata": {},
   "source": [
    "From period 1 to period 2, she **accumulates human capital** according to:\n",
    "\n",
    "$$ h_2 = h_1 + l_1 + \n",
    "\\begin{cases}\n",
    "0 & \\text{with prob. }0.5 \\\\\n",
    "\\Delta & \\text{with prob. }0.5 \n",
    "\\end{cases} \\\\\n",
    "$$\n",
    "\n",
    "where $\\Delta$ is a **stochastic experience gain**."
   ]
  },
  {
   "cell_type": "markdown",
   "metadata": {},
   "source": [
    "In the **second period** the worker thus solves:\n",
    "\n",
    "$$\n",
    "\\begin{eqnarray*}\n",
    "v_{2}(h_{2}) & = &\\max_{l_{2}} \\frac{c_2^{1-\\rho}}{1-\\rho} - \\gamma l_2\n",
    "\\\\ & \\text{s.t.} & \\\\\n",
    "c_{2}& = & w h_2 l_2 \\\\\n",
    "l_{2}& \\in &\\{0,1\\}\n",
    "\\end{eqnarray*}\n",
    "$$"
   ]
  },
  {
   "cell_type": "markdown",
   "metadata": {},
   "source": [
    "In the **first period** the worker thus solves:\n",
    "\n",
    "$$\n",
    "\\begin{eqnarray*}\n",
    "v_{1}(h_{1}) &=& \\max_{l_{1}} \\frac{c_1^{1-\\rho}}{1-\\rho} - \\gamma l_1 + \\beta\\mathbb{E}_{1}\\left[v_2(h_2)\\right]\n",
    "\\\\ & \\text{s.t.} & \\\\\n",
    "c_1 &=& w h_1 l_1 \\\\\n",
    "h_2 &=& h_1 + l_1 + \\begin{cases}\n",
    "0 & \\text{with prob. }0.5\\\\\n",
    "\\Delta & \\text{with prob. }0.5 \n",
    "\\end{cases}\\\\\n",
    "l_{1} &\\in& \\{0,1\\}\\\\\n",
    "\\end{eqnarray*}\n",
    "$$\n",
    "\n",
    "where $\\beta$ is the **discount factor** and $\\mathbb{E}_{1}\\left[v_2(h_2)\\right]$ is the **expected value of living in period two**."
   ]
  },
  {
   "cell_type": "markdown",
   "metadata": {},
   "source": [
    "The **parameters** of the model are:"
   ]
  },
  {
   "cell_type": "code",
   "execution_count": 2,
   "metadata": {},
   "outputs": [],
   "source": [
    "rho = 2\n",
    "beta = 0.96\n",
    "gamma = 0.1\n",
    "w = 2\n",
    "b = 1\n",
    "Delta = 0.1"
   ]
  },
  {
   "cell_type": "markdown",
   "metadata": {},
   "source": [
    "The **relevant levels of human capital** are:"
   ]
  },
  {
   "cell_type": "code",
   "execution_count": 3,
   "metadata": {},
   "outputs": [],
   "source": [
    "h_vec = np.linspace(0.1,1.5,100) "
   ]
  },
  {
   "cell_type": "markdown",
   "metadata": {},
   "source": [
    "**Question 1:** Solve the model in period 2 and illustrate the solution (including labor supply as a function of human capital). \n",
    "\n",
    "**Question 2:** Solve the model in period 1 and illustrate the solution (including labor supply as a function of human capital). \n",
    "\n",
    "**Question 3:** Will the worker never work if her potential wage income is lower than the unemployment benefits she can get? Explain and illustrate why or why not."
   ]
  },
  {
   "cell_type": "markdown",
   "metadata": {},
   "source": [
    "# 2. AS-AD model"
   ]
  },
  {
   "cell_type": "markdown",
   "metadata": {},
   "source": [
    "Consider the following **AS-AD model**. The **goods market equilibrium** is given by\n",
    "\n",
    "$$ y_{t} = -\\alpha r_{t} + v_{t} $$\n",
    "\n",
    "where $y_{t}$ is the **output gap**, $r_{t}$ is the **ex ante real interest** and $v_{t}$ is a **demand disturbance**. "
   ]
  },
  {
   "cell_type": "markdown",
   "metadata": {},
   "source": [
    "The central bank's **Taylor rule** is\n",
    "\n",
    "$$ i_{t} = \\pi_{t+1}^{e} + h \\pi_{t} + b y_{t}$$\n",
    "\n",
    "where $i_{t}$ is the **nominal interest rate**, $\\pi_{t}$ is the **inflation gap**, and $\\pi_{t+1}^{e}$ is the **expected inflation gap**. "
   ]
  },
  {
   "cell_type": "markdown",
   "metadata": {},
   "source": [
    "The **ex ante real interest rate** is given by \n",
    "\n",
    "$$ r_{t} = i_{t} - \\pi_{t+1}^{e} $$"
   ]
  },
  {
   "cell_type": "markdown",
   "metadata": {},
   "source": [
    "Together, the above implies that the **AD-curve** is\n",
    "\n",
    "$$ \\pi_{t} = \\frac{1}{h\\alpha}\\left[v_{t} - (1+b\\alpha)y_{t}\\right]$$"
   ]
  },
  {
   "cell_type": "markdown",
   "metadata": {},
   "source": [
    "Further, assume that the **short-run supply curve (SRAS)** is given by\n",
    "\n",
    "$$ \\pi_{t} = \\pi_{t}^{e} + \\gamma y_{t} + s_{t}$$\n",
    "\n",
    "where $s_t$ is a **supply disturbance**."
   ]
  },
  {
   "cell_type": "markdown",
   "metadata": {},
   "source": [
    "**Inflation expectations are adaptive** and given by\n",
    "\n",
    "$$ \\pi_{t}^{e} = \\phi\\pi_{t-1}^{e} + (1-\\phi)\\pi_{t-1}$$"
   ]
  },
  {
   "cell_type": "markdown",
   "metadata": {},
   "source": [
    "Together, this implies that the **SRAS-curve** can also be written as\n",
    "\n",
    "$$ \\pi_{t} = \\pi_{t-1} + \\gamma y_{t} - \\phi\\gamma y_{t-1} + s_{t} - \\phi s_{t-1} $$"
   ]
  },
  {
   "cell_type": "markdown",
   "metadata": {},
   "source": [
    "The **parameters** of the model are:"
   ]
  },
  {
   "cell_type": "code",
   "execution_count": 2,
   "metadata": {},
   "outputs": [],
   "source": [
    "par = {}\n",
    "\n",
    "par['alpha'] = 5.76\n",
    "par['h'] = 0.5\n",
    "par['b'] = 0.5\n",
    "par['phi'] = 0\n",
    "par['gamma'] = 0.075"
   ]
  },
  {
   "cell_type": "markdown",
   "metadata": {},
   "source": [
    "**Question 1:** Use the ``sympy`` module to solve for the equilibrium values of output, $y_t$, and inflation, $\\pi_t$, (where AD = SRAS) given the parameters ($\\alpha$, $h$, $b$, $\\alpha$, $\\gamma$) and $y_{t-1}$ , $\\pi_{t-1}$, $v_t$, $s_t$, and $s_{t-1}$.\n"
   ]
  },
  {
   "cell_type": "code",
   "execution_count": 3,
   "metadata": {},
   "outputs": [],
   "source": [
    "import sympy as sm\n",
    "sm.init_printing(use_unicode=True) # sets printing on\n",
    "# Defining variables;\n",
    "alpha=sm.symbols('alpha') # parameter for slope in AD - curve\n",
    "h = sm.symbols('h') # reactionparameter to output in the Central Bank's Taylor Rule\n",
    "b = sm.symbols('b') # reactionparameter to inflation in the Central Bank's Taylor Rule\n",
    "phi = sm.symbols('phi') # Slope coefficient in AD - curve\n",
    "gamma = sm.symbols('gamma') # Slope coefficient in SRAS-Curve\n",
    "yt = sm.symbols('y_t') # contemporaneous output\n",
    "yt1 = sm.symbols('y_t-1') # Output last period\n",
    "pit = sm.symbols('pi_t') # contemporaneous inflation \n",
    "pit1 = sm.symbols('pi_t-1') # Inflation last period\n",
    "vt = sm.symbols('v_t') # Demand schock in period t\n",
    "st = sm.symbols('s_t') # Supply schock in period t\n",
    "st1 = sm.symbols('s_t-1') # Supply schock in the previous period t-1\n",
    "\n",
    "\n"
   ]
  },
  {
   "cell_type": "markdown",
   "metadata": {},
   "source": [
    "Using Sympy's equation solving function we can solve for the equilibirum values of output $y_t$ and inflation $\\pi_t$."
   ]
  },
  {
   "cell_type": "code",
   "execution_count": 4,
   "metadata": {},
   "outputs": [
    {
     "data": {
      "image/png": "[encoded data removed]",
      "text/latex": [
       "$$\\left[\\begin{matrix}\\frac{\\alpha \\gamma h \\phi y_{t-1} + \\alpha h \\phi s_{t-1} - \\alpha h \\pi_{t-1} - \\alpha h s_{t} + v_{t}}{\\alpha b + \\alpha \\gamma h + 1}\\\\\\frac{v_{t} - \\frac{\\left(\\alpha b + 1\\right) \\left(\\alpha \\gamma h \\phi y_{t-1} + \\alpha h \\phi s_{t-1} - \\alpha h \\pi_{t-1} - \\alpha h s_{t} + v_{t}\\right)}{\\alpha b + \\alpha \\gamma h + 1}}{\\alpha h}\\end{matrix}\\right]$$"
      ],
      "text/plain": [
       "⎡        α⋅γ⋅h⋅φ⋅yₜ₋₁ + α⋅h⋅φ⋅sₜ₋₁ - α⋅h⋅πₜ₋₁ - α⋅h⋅sₜ + vₜ         ⎤\n",
       "⎢        ──────────────────────────────────────────────────         ⎥\n",
       "⎢                         α⋅b + α⋅γ⋅h + 1                           ⎥\n",
       "⎢                                                                   ⎥\n",
       "⎢     (α⋅b + 1)⋅(α⋅γ⋅h⋅φ⋅yₜ₋₁ + α⋅h⋅φ⋅sₜ₋₁ - α⋅h⋅πₜ₋₁ - α⋅h⋅sₜ + vₜ)⎥\n",
       "⎢vₜ - ──────────────────────────────────────────────────────────────⎥\n",
       "⎢                            α⋅b + α⋅γ⋅h + 1                        ⎥\n",
       "⎢───────────────────────────────────────────────────────────────────⎥\n",
       "⎣                                α⋅h                                ⎦"
      ]
     },
     "execution_count": 4,
     "metadata": {},
     "output_type": "execute_result"
    }
   ],
   "source": [
    "# a defining the AD - curve using equation:\n",
    "AD = sm.Eq(1/(h*alpha)*(vt-(1+b*alpha)*yt),pit)\n",
    "\n",
    "# b. the SRAS - Curve\n",
    "SRAS = sm.Eq(pit1+gamma*yt-phi*gamma*yt1+st-phi*st1,pit)\n",
    "\n",
    "# c. Equlizing SRAS and AD\n",
    "SRASAD = sm.Eq(1/(h*alpha)*(vt-(1+b*alpha)*yt),pit1+gamma*yt-phi*gamma*yt1+st-phi*st1)\n",
    "\n",
    "# d. Solve for y\n",
    "ysol = sm.solve(SRASAD,yt)[0]\n",
    "\n",
    "# e. Solve for equilbrium inflation by inserting ysol in AD - Curve\n",
    "pisol = 1/(h*alpha)*(vt-(1+b*alpha)*ysol)\n",
    "\n",
    "# f. printing results\n",
    "sm.Matrix([ysol,pisol]) # Prints the equilibrium Output and Inflation in the economy"
   ]
  },
  {
   "cell_type": "code",
   "execution_count": 5,
   "metadata": {},
   "outputs": [
    {
     "data": {
      "image/png": "[encoded data removed]",
      "text/latex": [
       "$$\\frac{v_{t} - \\frac{\\left(\\alpha b + 1\\right) \\left(\\alpha \\gamma h \\phi y_{t-1} + \\alpha h \\phi s_{t-1} - \\alpha h \\pi_{t-1} - \\alpha h s_{t} + v_{t}\\right)}{\\alpha b + \\alpha \\gamma h + 1}}{\\alpha h}$$"
      ],
      "text/plain": [
       "     (α⋅b + 1)⋅(α⋅γ⋅h⋅φ⋅yₜ₋₁ + α⋅h⋅φ⋅sₜ₋₁ - α⋅h⋅πₜ₋₁ - α⋅h⋅sₜ + vₜ)\n",
       "vₜ - ──────────────────────────────────────────────────────────────\n",
       "                            α⋅b + α⋅γ⋅h + 1                        \n",
       "───────────────────────────────────────────────────────────────────\n",
       "                                α⋅h                                "
      ]
     },
     "execution_count": 5,
     "metadata": {},
     "output_type": "execute_result"
    }
   ],
   "source": [
    "# solving for inflation by inserting ysol in SRAS - curve and see it is the same;\n",
    "pisol2 = 1/(h*alpha)*(vt-(1+b*alpha)*ysol),pit1+gamma*ysol-phi*gamma*yt1+st-phi*st1\n",
    "pisol2[0]"
   ]
  },
  {
   "cell_type": "code",
   "execution_count": 6,
   "metadata": {},
   "outputs": [],
   "source": [
    "# Turn the above solutions into python functions;\n",
    "ysol_func = sm.lambdify((alpha,gamma,phi,h,b,yt1,st1,pit1,st,vt),ysol)\n",
    "pisol_func = sm.lambdify((alpha,gamma,phi,h,b,yt1,st1,pit1,st,vt),pisol)"
   ]
  },
  {
   "cell_type": "markdown",
   "metadata": {},
   "source": [
    "\n",
    "**Question 2:** Find and illustrate the equilibrium when $y_{t-1} = \\pi_{t-1} = v_t = s_t = s_{t-1} = 0$. Illustrate how the equilibrium changes when instead $v_t = 0.1$."
   ]
  },
  {
   "cell_type": "markdown",
   "metadata": {},
   "source": [
    "Given the specified parameter values, we can find the equilibrium values of output $\\widehat{y}_t$ and inflation $\\widehat{\\pi}_t$ numerically, by using the above specified python functions."
   ]
  },
  {
   "cell_type": "code",
   "execution_count": 7,
   "metadata": {},
   "outputs": [
    {
     "name": "stdout",
     "output_type": "stream",
     "text": [
      "analytical solution for market equilibrium Output with v=0 is: 0.00\n",
      "analytical solution for market equilibrium inflation with v=0 is: 0.00\n"
     ]
    }
   ],
   "source": [
    "# Specifies the parametervalues\n",
    "alpha=5.76\n",
    "b=0.5\n",
    "h=0.5\n",
    "phi=0\n",
    "gamma= 0.075\n",
    "yt1=0\n",
    "pit1=0\n",
    "vt=0\n",
    "st=0\n",
    "st1=0\n",
    "print(f'analytical solution for market equilibrium Output with v=0 is: {ysol_func(alpha,gamma,phi,h,b,yt1,st1,pit1,st,vt):.2f}')\n",
    "print(f'analytical solution for market equilibrium inflation with v=0 is: {pisol_func(alpha,gamma,phi,h,b,yt1,st1,pit1,st,vt):.2f}')"
   ]
  },
  {
   "cell_type": "markdown",
   "metadata": {},
   "source": [
    "And we see that the equilibrium output and inflation are $\\{(\\widehat{y}_t,\\widehat{\\pi}_t)=(0,0)\\}$, which is identical to the long run equilibrium with output being at the structural level $\\overline{y}=0$."
   ]
  },
  {
   "cell_type": "markdown",
   "metadata": {},
   "source": [
    "However suppose there has been a positive demand shock, i.e. $v_t>0$. Then from standard economic theory and knowing the AS-AD dynamics, we would expect both inflation and output to rise - as a larger demand for the firms goods make firms increase their production. However giving declining marginal productivity of the workers, the firms faces increasing marginal costs and hence increase their prices. Thus both inflation and output in equilibrium increases in period t."
   ]
  },
  {
   "cell_type": "code",
   "execution_count": 8,
   "metadata": {},
   "outputs": [
    {
     "name": "stdout",
     "output_type": "stream",
     "text": [
      "analytical solution for market equilibrium Output with v=0.1 is: 0.02\n",
      "analytical solution for market equilibrium inflation with v=0.1 is: 0.00183\n"
     ]
    }
   ],
   "source": [
    "# Defines the parametervalues. Only the demand shock in period t changes.\n",
    "yt1=0\n",
    "pit1=0\n",
    "vt=0.1 # Positive demand shock in period t\n",
    "st=0\n",
    "st1=0\n",
    "print(f'analytical solution for market equilibrium Output with v=0.1 is: {ysol_func(alpha,gamma,phi,h,b,yt1,st1,pit1,st,vt):.2f}')\n",
    "print(f'analytical solution for market equilibrium inflation with v=0.1 is: {pisol_func(alpha,gamma,phi,h,b,yt1,st1,pit1,st,vt):.5f}')"
   ]
  },
  {
   "cell_type": "markdown",
   "metadata": {},
   "source": [
    "The equilibrium with $v_t=0$ and $v_t=0.1$ respectively is visualized below:"
   ]
  },
  {
   "cell_type": "code",
   "execution_count": 9,
   "metadata": {},
   "outputs": [
    {
     "data": {
      "image/png": "[encoded data removed]",
      "text/plain": [
       "<Figure size 432x288 with 1 Axes>"
      ]
     },
     "metadata": {
      "needs_background": "light"
     },
     "output_type": "display_data"
    }
   ],
   "source": [
    "# Specifies the parametervalues\n",
    "alpha=5.76\n",
    "b=0.5\n",
    "h=0.5\n",
    "phi=0\n",
    "gamma= 0.075\n",
    "yt1=0\n",
    "pit1=0\n",
    "vt=0\n",
    "st=0\n",
    "st1=0\n",
    "v1t=0.1\n",
    "\n",
    "ADfunc = lambda yt : 1/(h*alpha)*(vt-(1+b*alpha)*yt) # Defines the AD function using a lambda function.\n",
    "SRASfunc = lambda yt: pit1+gamma*yt-phi*gamma*yt1+st-phi*st1 # Defines the SRAS function using a lambda function.\n",
    "ADfunc1 = lambda yt : 1/(h*alpha)*(v1t-(1+b*alpha)*yt) # Defines the AD function using a lambda function.\n",
    "\n",
    "yt = np.linspace(-5, 5, 200) # Return evenly spaced numbers over a specified interval from -5 to 5 .\n",
    "\n",
    "# Plot the AD and SRAS - functions\n",
    "plt.plot(yt, ADfunc(yt),label='Demand ($v_t=0$)') # Plot the AD - function with vt=0\n",
    "plt.plot(yt, ADfunc1(yt),label='Demand ($v_t=0.1$)') # Plot the AD - function with vt=0.1\n",
    "plt.plot(yt, SRASfunc(yt), label='Short run supply') # Plot the SRAS - function\n",
    "plt.legend(loc='upper right') # Place the graph descriptions in the upper right corner\n",
    "#plt.axhline(y=0,linestyle='dashed',color='k') # creates a horizontal line in the plot at func(q)=0.5\n",
    "plt.axvline(x=0,color='k', label = 'strutural output') # creates a vertical line in the plot at  yt=0 equal to the structural level\n",
    "plt.xlabel(\"Output $y_t$ \")\n",
    "plt.ylabel(\"Inflation $\\pi_t$\")\n",
    "plt.xlim(-0.5,0.5) # Specifies the values for the x-axis\n",
    "plt.ylim(-0.5,0.5) # speficifes the values for the y-axis\n",
    "plt.grid()\n",
    "plt.title('The AS - AD Model')\n",
    "plt.show()"
   ]
  },
  {
   "cell_type": "markdown",
   "metadata": {},
   "source": [
    "And as found numerically, the graph shows that the equilibrium changes. The AD - curve shifts to the right and inflation and output increases above their long - run values. In period t+1 when the demand shock ends, the demand curve shift back to its orginal position. However giving that inflation expectations are adaptive, it can be shown that the short - run supply curve will move up in period t+1, because the rising inflation period t affects the inflation expectations upwards. However this will not be shown here. However this will be the objective for the next question."
   ]
  },
  {
   "cell_type": "markdown",
   "metadata": {},
   "source": [
    "Below we make a interactive plot showing how the equilibrium changes with $v_t$."
   ]
  },
  {
   "cell_type": "code",
   "execution_count": 12,
   "metadata": {},
   "outputs": [],
   "source": [
    "import ipywidgets as widgets # Import a package for interactive plots\n",
    "\n",
    "def interactive_figure(vt):\n",
    "    \"\"\"This function makes a intertive figure with v as a free variable\"\"\"\n",
    "    \n",
    "    # a. specifies the fixed parameters\n",
    "    alpha=5.76\n",
    "    b=0.5\n",
    "    h=0.5\n",
    "    phi=0\n",
    "    gamma= 0.075\n",
    "    yt1=0\n",
    "    pit1=0\n",
    "    st=0\n",
    "    st1=0\n",
    "    v1t=0 # Used to specify a AD - function where vt is equal to zero.\n",
    "\n",
    "    # b. defines the functions for the AD - curve with vt=0, AD - curve with changing vt and the SRAS - Curve\n",
    "    \n",
    "    ADfunc = lambda yt : 1/(h*alpha)*(vt-(1+b*alpha)*yt) # Defines the AD function using a lambda function.\n",
    "    ADfunc1 = lambda yt : 1/(h*alpha)*(v1t-(1+b*alpha)*yt) # Defines the AD function using a lambda function.\n",
    "    SRASfunc = lambda yt: pit1+gamma*yt-phi*gamma*yt1+st-phi*st1 # Defines the SRAS function using a lambda function.\n",
    "   \n",
    "    yt = np.linspace(-5, 5, 200) # Return evenly spaced numbers over a specified interval from -5 to 5 .\n",
    "    \n",
    "    # c. plot the figures\n",
    "    plt.plot(yt, ADfunc(yt),label='Demand') # Plot the AD - function with vt as a free variable\n",
    "    plt.plot(yt, ADfunc1(yt),label='Demand ($v_t=0$)') # Plot the AD - function with vt=0\n",
    "    plt.plot(yt, SRASfunc(yt),label='Short run supply') # Plot the SRAS - function\n",
    "    plt.axvline(x=0,color='k', label='Structural output') # creates a vertical line in the plot at  yt=0 equal to the structural level\n",
    "    plt.xlim(-0.1,0.1) # Specifies the values for the x-axis\n",
    "    plt.ylim(-0.3,0.3) # speficifes the values for the y-axis\n",
    "    plt.xlabel(\"Output $y_t$ \")\n",
    "    plt.ylabel(\"Inflation $\\pi_t$\")\n",
    "    plt.grid()\n",
    "    plt.title('The AS - AD Model')\n",
    "    plt.legend(loc='upper right') # Place the graph descriptions in the upper right corner\n",
    "    plt.show()"
   ]
  },
  {
   "cell_type": "code",
   "execution_count": 13,
   "metadata": {},
   "outputs": [
    {
     "data": {
      "application/vnd.jupyter.widget-view+json": {
       "model_id": "bae6f23d26ad4264b13a75be898d7b5c",
       "version_major": 2,
       "version_minor": 0
      },
      "text/plain": [
       "interactive(children=(FloatSlider(value=0.1, description='v', max=5.0, min=-5.0), Output()), _dom_classes=('wi…"
      ]
     },
     "metadata": {},
     "output_type": "display_data"
    }
   ],
   "source": [
    "widgets.interact(interactive_figure,\n",
    "    vt=widgets.FloatSlider(description=\"v\",min=-5,max=5,step=0.1,value=0.1) # starting value is v_t=0.1\n",
    ");"
   ]
  },
  {
   "cell_type": "code",
   "execution_count": 14,
   "metadata": {},
   "outputs": [],
   "source": [
    "sm.init_printing(use_unicode=False) # sets printing off"
   ]
  },
  {
   "cell_type": "markdown",
   "metadata": {},
   "source": [
    "**Persistent disturbances:** Now, additionaly, assume that both the demand and the supply disturbances are AR(1) processes\n",
    "\n",
    "$$ v_{t} = \\delta v_{t-1} + x_{t} $$\n",
    "$$ s_{t} = \\omega s_{t-1} + c_{t} $$\n",
    "\n",
    "where $x_{t}$ is a **demand shock**, and $c_t$ is a **supply shock**. The **autoregressive parameters** are:"
   ]
  },
  {
   "cell_type": "code",
   "execution_count": 43,
   "metadata": {},
   "outputs": [],
   "source": [
    "par['delta'] = 0.80\n",
    "par['omega'] = 0.15"
   ]
  },
  {
   "cell_type": "markdown",
   "metadata": {},
   "source": [
    "**Question 3:** Starting from $y_{-1} = \\pi_{-1} = s_{-1} = 0$, how does the economy evolve for $x_0 = 0.1$, $x_t = 0, \\forall t > 0$ and $c_t = 0, \\forall t \\geq 0$?"
   ]
  },
  {
   "cell_type": "markdown",
   "metadata": {},
   "source": [
    "Choose parameters"
   ]
  },
  {
   "cell_type": "code",
   "execution_count": 44,
   "metadata": {},
   "outputs": [],
   "source": [
    "alpha=5.76\n",
    "b=0.5\n",
    "h=0.5\n",
    "phi=0\n",
    "gamma= 0.075\n",
    "yt1=0\n",
    "pit1=0\n",
    "st=0\n",
    "st1=0\n",
    "delta = 0.8\n",
    "omega = 0.15\n",
    "T = 100"
   ]
  },
  {
   "cell_type": "markdown",
   "metadata": {},
   "source": [
    "To specify the functions for the equilibrium value of $y_t$ and $\\pi_t$ in period t, we write up the already found solutions:\n",
    "\n",
    "$$ \\widehat{y}_{t} = \\frac{\\alpha\\cdot h(\\gamma\\cdot\\phi y_{t-1}+\\phi\\cdot s_{t-1} - \\pi_{t-1} - s_t)+v_t}{\\alpha(b+\\gamma h)+1} $$\n",
    "and\n",
    "$$ \\widehat{\\pi}_{t} = \\frac{v_t-\\frac{(\\alpha b+1)\\alpha\\cdot h(\\gamma\\cdot\\phi y_{t-1}+\\phi\\cdot s_{t-1} - \\pi_{t-1} - s_t)+v_t}{\\alpha(b+\\gamma h)+1}}{\\alpha h} $$"
   ]
  },
  {
   "cell_type": "markdown",
   "metadata": {},
   "source": [
    "Define model functions for equilibirum values of $y_t$ and $\\pi_t$, vand the AR(1) - processes for demand shocks $v_t$ and supply schocks $s_t$."
   ]
  },
  {
   "cell_type": "code",
   "execution_count": 45,
   "metadata": {},
   "outputs": [],
   "source": [
    "y_hat_func = lambda y_hat_lag,v,v_lag,s,s_lag,pi_lag: 1/(alpha*b+alpha*gamma*h+1)*(alpha*h*(gamma*phi*y_hat_lag+phi*s_lag-pi_lag-s)+v)\n",
    "pi_hat_func = lambda pi_lag,v,v_lag,s,s_lag,y_hat_lag: 1/(alpha*h)*(v-(alpha*b+1)/(alpha*b+alpha*gamma*h+1)*(alpha*h*gamma*phi*y_hat_lag+alpha*h*phi*s_lag-alpha*h*pi_lag-alpha*h*s+v))\n",
    "v_func = lambda v_lag,x: delta*v_lag + x\n",
    "s_func = lambda s_lag,c: omega*s_lag + c\n"
   ]
  },
  {
   "cell_type": "markdown",
   "metadata": {},
   "source": [
    "Run the simulation"
   ]
  },
  {
   "cell_type": "code",
   "execution_count": 46,
   "metadata": {},
   "outputs": [],
   "source": [
    "import numpy as np\n",
    "\n",
    "# a. set setup\n",
    "np.random.seed(2015)   # set's the random seed.\n",
    "\n",
    "# b. allocate simulation data\n",
    "\n",
    "x= np.zeros(T) #returns a numpy array with shape = T filled with zeros\n",
    "x[0]=0.1 # changes the value of the first element to 0.1\n",
    "c = np.zeros(T) \n",
    "v= np.zeros(T)\n",
    "#v[0]=0.1\n",
    "s = np.zeros(T) # Supply shocks is set to be zero in all periods.\n",
    "y_hat = np.zeros(T) # set equilibrium output/outputgap to be zero.\n",
    "y_hat[0]=ysol_func(5.76,0.075,0,0.5,0.5,0,0,0,0,0.1) # changes the first element of yhat to be equal to previous found yhat with v=0.1\n",
    "pi_hat = np.zeros(T)\n",
    "pi_hat[0]=pisol_func(5.76,0.075,0,0.5,0.5,0,0,0,0,0.1) # changes the first element in pihat to equal the eq. value of pi with v=0.1\n",
    "\n",
    "# c. run simulation\n",
    "for t in range(0,T):\n",
    "\n",
    "    # i. update v and s\n",
    "    v[t] = v_func(v[t-1],x[t])\n",
    "    s[t] = s_func(s[t-1],c[t])\n",
    "\n",
    "    # ii. compute y og pi \n",
    "    y_hat[t] = y_hat_func(y_hat[t-1],v[t],v[t-1],s[t],s[t-1],pi_hat[t-1])\n",
    "    pi_hat[t] = pi_hat_func(pi_hat[t-1],v[t],v[t-1],s[t],s[t-1],y_hat[t-1])"
   ]
  },
  {
   "cell_type": "markdown",
   "metadata": {},
   "source": [
    "Plot the simulation"
   ]
  },
  {
   "cell_type": "code",
   "execution_count": 50,
   "metadata": {},
   "outputs": [
    {
     "data": {
      "image/png": "[encoded data removed]",
      "text/plain": [
       "<Figure size 432x288 with 1 Axes>"
      ]
     },
     "metadata": {
      "needs_background": "light"
     },
     "output_type": "display_data"
    }
   ],
   "source": [
    "import matplotlib.pyplot as plt\n",
    "%matplotlib inline\n",
    "\n",
    "fig = plt.figure()\n",
    "ax = fig.add_subplot(1,1,1)\n",
    "\n",
    "ax.plot(y_hat,label='$\\\\widehat{y}$')\n",
    "ax.plot(pi_hat,label='$\\\\widehat{\\pi}$')\n",
    "ax.set_xlabel('time')\n",
    "ax.set_title('The evovlement of the economy')\n",
    "ax.set_ylabel('percent')\n",
    "ax.set_ylim([-0.03,0.03])\n",
    "\n",
    "ax.legend(loc='upper right');"
   ]
  },
  {
   "cell_type": "markdown",
   "metadata": {},
   "source": [
    "And as we see, the economy is initially in a equilibrium with a positive output higher than the structural level $\\overline{y}=0$ and a positive inflation level higher than the central bank's inflation target level $\\pi^{\\ast}=0$. However as the shock to $v_t$ drops down to zero again, $x_t=0$ for $\\forall x_t>0$, the shock to aggregate demand is reduced yielding a downward drop in the AD - curve. However as the disburtance to aggregate demand $v_t$ is autoregressive, there is some persistent in the shock over time. Moreover as the inflation expectations are adaptive, people will adjust their inflation expectations upwards  in period t+1 as a weighted avaerage of last period inflation and last periods expected inflation due to the high inflation in period t=0. We then see that in subsequent periods, inflation will continue to increase in about roughly 10 periods before it starts to converge towards the long-run equilibirum value of zero. \n",
    "\n",
    "Output will however decrease after the initial schock ends due to upward shift in aggregate suppæy and downwards shift in aggregate demand, and output appears to be decreasing in around 10 periods. Thereafter output starts to converge monotically back towards the structural level of zero.\n",
    "\n"
   ]
  },
  {
   "cell_type": "markdown",
   "metadata": {},
   "source": [
    "**Stochastic shocks:** Now, additionally, assume that $x_t$ and $c_t$ are stochastic and normally distributed\n",
    "\n",
    "$$ x_{t}\\sim\\mathcal{N}(0,\\sigma_{x}^{2}) $$\n",
    "$$ c_{t}\\sim\\mathcal{N}(0,\\sigma_{c}^{2}) $$\n",
    "\n",
    "The **standard deviations of the shocks** are:"
   ]
  },
  {
   "cell_type": "code",
   "execution_count": 51,
   "metadata": {},
   "outputs": [],
   "source": [
    "par['sigma_x'] = 3.492\n",
    "par['sigma_c'] = 0.2"
   ]
  },
  {
   "cell_type": "markdown",
   "metadata": {},
   "source": [
    "**Question 4:** Simulate the AS-AD model for 1,000 periods. Calculate the following five statistics:\n",
    "\n",
    "1. Variance of $y_t$, $var(y_t)$\n",
    "2. Variance of $\\pi_t$, $var(\\pi_t)$\n",
    "3. Correlation between $y_t$ and $\\pi_t$, $corr(y_t,\\pi_t)$\n",
    "4. Auto-correlation between $y_t$ and $y_{t-1}$, $corr(y_t,y_{t-1})$\n",
    "5. Auto-correlation between $\\pi_t$ and $\\pi_{t-1}$, $corr(\\pi_t,\\pi_{t-1})$"
   ]
  },
  {
   "cell_type": "markdown",
   "metadata": {},
   "source": [
    "Choose parameters"
   ]
  },
  {
   "cell_type": "code",
   "execution_count": 52,
   "metadata": {},
   "outputs": [],
   "source": [
    "sigma_x = par['sigma_x']\n",
    "sigma_c = par['sigma_c'] \n",
    "T = 1000"
   ]
  },
  {
   "cell_type": "markdown",
   "metadata": {},
   "source": [
    "Run the simulation"
   ]
  },
  {
   "cell_type": "code",
   "execution_count": 53,
   "metadata": {},
   "outputs": [],
   "source": [
    "import numpy as np\n",
    "\n",
    "# a. set setup\n",
    "np.random.seed(2015)   # set's the random seed.\n",
    "\n",
    "# b. allocate simulation data\n",
    "\n",
    "x = np.random.normal(loc=0,scale=sigma_x,size=T)\n",
    "x[0] = 0.1 # set the first element of disburtances to demand to be equal to 0.1 as question 3.\n",
    "c = np.random.normal(loc=0,scale=sigma_c,size=T)\n",
    "s = np.zeros(T) # Supply shocks is set to be zero in all periods.\n",
    "v = np.zeros(T)\n",
    "y_hat = np.zeros(T) # set equilibrium output/outputgap to be zero.\n",
    "y_hat[0]=ysol_func(5.76,0.075,0,0.5,0.5,0,0,0,0,0.1) # changes the first element of yhat to be equal to previous found yhat with v=0.1\n",
    "pi_hat = np.zeros(T)\n",
    "pi_hat[0]=pisol_func(5.76,0.075,0,0.5,0.5,0,0,0,0,0.1) # changes the first element in pihat to equal the eq. value of pi with v=0.1\n",
    "\n",
    "# c. run simulation\n",
    "for t in range(1,T):\n",
    "\n",
    "    # i. update v and s\n",
    "    v[t] = v_func(v[t-1],x[t])\n",
    "    s[t] = s_func(s[t-1],c[t])\n",
    "\n",
    "    # ii. compute y og pi \n",
    "    y_hat[t] = y_hat_func(y_hat[t-1],v[t],v[t-1],s[t],s[t-1],pi_hat[t-1])\n",
    "    pi_hat[t] = pi_hat_func(pi_hat[t-1],v[t],v[t-1],s[t],s[t-1],y_hat[t-1])\n"
   ]
  },
  {
   "cell_type": "markdown",
   "metadata": {},
   "source": [
    "Plot the simulation"
   ]
  },
  {
   "cell_type": "code",
   "execution_count": 54,
   "metadata": {},
   "outputs": [
    {
     "data": {
      "image/png": "[encoded data removed]",
      "text/plain": [
       "<Figure size 432x288 with 1 Axes>"
      ]
     },
     "metadata": {
      "needs_background": "light"
     },
     "output_type": "display_data"
    }
   ],
   "source": [
    "import matplotlib.pyplot as plt\n",
    "%matplotlib inline\n",
    "\n",
    "fig = plt.figure()\n",
    "ax = fig.add_subplot(1,1,1)\n",
    "\n",
    "ax.plot(y_hat,label='$\\\\widehat{y}$')\n",
    "ax.plot(pi_hat,label='$\\\\widehat{\\pi}$')\n",
    "ax.set_xlabel('time')\n",
    "\n",
    "ax.set_ylabel('percent')\n",
    "ax.set_ylim([-8,8])\n",
    "\n",
    "ax.legend(loc='upper right');"
   ]
  },
  {
   "cell_type": "markdown",
   "metadata": {},
   "source": [
    "We see that the introduction of stochastic shocks results in more variation in the outputgap and inflationgap, and the smooth convergence back to the long rund equilibrium is vanished.\n",
    "\n",
    "Below we calculate the five statistics:\n",
    "\n",
    "0. mean of $y_t$, $var(y_t)$\n",
    "1. Variance of $y_t$, $var(y_t)$\n",
    "2. Variance of $\\pi_t$, $var(\\pi_t)$\n",
    "3. Correlation between $y_t$ and $\\pi_t$, $corr(y_t,\\pi_t)$\n",
    "4. Auto-correlation between $y_t$ and $y_{t-1}$, $corr(y_t,y_{t-1})$\n",
    "5. Auto-correlation between $\\pi_t$ and $\\pi_{t-1}$, $corr(\\pi_t,\\pi_{t-1})$"
   ]
  },
  {
   "cell_type": "code",
   "execution_count": 55,
   "metadata": {},
   "outputs": [
    {
     "name": "stdout",
     "output_type": "stream",
     "text": [
      "0.1 The mean of output is: -0.10\n",
      "0.2 The mean of inflation is: 0.08\n",
      "1. The variance of output is: 1.98\n",
      "2. The variance of inflation is: 1.31\n",
      "3. The correlation between output and inflation are: -0.23\n",
      "4. The Auto-correlation between output and output last period is: ???:\n",
      "5. The Auto-correlation between inflation and inflation last period is: ???\n"
     ]
    }
   ],
   "source": [
    "# a. mean using numpy's function mean\n",
    "ymean = np.mean(y_hat)\n",
    "pimean = np.mean(pi_hat)\n",
    "\n",
    "# b. variance of y and pi using numpy's function var\n",
    "yvar = np.var(y_hat)\n",
    "pivar = np.var(pi_hat)\n",
    "\n",
    "# c. Correlation between y and py using numpy's function correlate\n",
    "piycorr = np.corrcoef(y_hat,pi_hat)\n",
    "\n",
    "# d. Auto-correlation between y_t and y_t-1, and pi_t and pi_t-1 using numpy's function corecoef\n",
    "# ??? - se below for alternative solution;\n",
    "\n",
    "# e. print results\n",
    "print(f'0.1 The mean of output is: {ymean:.2f}')\n",
    "print(f'0.2 The mean of inflation is: {pimean:.2f}')\n",
    "print(f'1. The variance of output is: {yvar:.2f}')\n",
    "print(f'2. The variance of inflation is: {pivar:.2f}')\n",
    "print(f'3. The correlation between output and inflation are: {piycorr[0][1]:.2f}')\n",
    "print(f'4. The Auto-correlation between output and output last period is: ???:')\n",
    "print(f'5. The Auto-correlation between inflation and inflation last period is: ???')"
   ]
  },
  {
   "cell_type": "markdown",
   "metadata": {},
   "source": [
    "We are not quite sure how to calculate the Auto - Correlations $corr(y_t,y_{t-1})$ and $corr(\\pi_t,\\pi_{t-1})$ using well known functions from numpy. However using the tsaplots from the statsmodels.graphics package and tatsmodels.tsa.stattools.acf() , we have both plottet the autocorrelation and calculated it for $y_t$ and $\\pi_t$ below:"
   ]
  },
  {
   "cell_type": "code",
   "execution_count": 56,
   "metadata": {},
   "outputs": [
    {
     "data": {
      "text/plain": [
       "Text(0.5, 1.0, 'Autocorrelation in $\\\\pi_t$')"
      ]
     },
     "execution_count": 56,
     "metadata": {},
     "output_type": "execute_result"
    },
    {
     "data": {
      "image/png": "[encoded data removed]",
      "text/plain": [
       "<Figure size 432x288 with 1 Axes>"
      ]
     },
     "metadata": {
      "needs_background": "light"
     },
     "output_type": "display_data"
    },
    {
     "data": {
      "image/png": "[encoded data removed]",
      "text/plain": [
       "<Figure size 432x288 with 1 Axes>"
      ]
     },
     "metadata": {
      "needs_background": "light"
     },
     "output_type": "display_data"
    }
   ],
   "source": [
    "\n",
    "from statsmodels.graphics import tsaplots\n",
    "from statsmodels.tsa.stattools import acf \n",
    "\n",
    "\n",
    "# Display the autocorrelation plot of your time series\n",
    "fig = tsaplots.plot_acf(y_hat, lags=10)\n",
    "plt.title('Autocorrelation in $y_t$')\n",
    "\n",
    "fig2 = tsaplots.plot_acf(pi_hat, lags=10)\n",
    "plt.title('Autocorrelation in $\\pi_t$')\n"
   ]
  },
  {
   "cell_type": "markdown",
   "metadata": {},
   "source": [
    "And visually we can see that the autocorrelation between output this period and last period is a little below 0.8, while the autocorrelation for inflation almost 1 (a little below - perhaps between 0.97-0.99)."
   ]
  },
  {
   "cell_type": "markdown",
   "metadata": {},
   "source": [
    "The autocorrelations calculated:"
   ]
  },
  {
   "cell_type": "code",
   "execution_count": 57,
   "metadata": {},
   "outputs": [
    {
     "name": "stdout",
     "output_type": "stream",
     "text": [
      "4. The Auto-correlation between output and output last period is: 0.78\n",
      "5. The Auto-correlation between inflation and inflation last period is: 0.98\n"
     ]
    }
   ],
   "source": [
    "#a. Auto-corr betwen y_t and y_t-1\n",
    "yautocorr = acf(y_hat,nlags=10) # nlags specifies the number of lags, we are only interested in the first\n",
    "\n",
    "#b. Auto-corr betwen pi_t and pi_t-1\n",
    "piautocorr = acf(pi_hat,nlags=10)\n",
    "\n",
    "# So the autocorrelations are calcualted as:\n",
    "print(f'4. The Auto-correlation between output and output last period is: {yautocorr[1]:.2f}')\n",
    "print(f'5. The Auto-correlation between inflation and inflation last period is: {piautocorr[1]:.2f}')"
   ]
  },
  {
   "cell_type": "markdown",
   "metadata": {},
   "source": [
    "**Question 5:** Plot how the correlation between $y_t$ and $\\pi_t$ changes with $\\phi$. Use a numerical optimizer or root finder to choose $\\phi\\in(0,1)$ such that the simulated correlation between $y_t$ and $\\pi_t$ comes close to 0.31. "
   ]
  },
  {
   "cell_type": "code",
   "execution_count": 27,
   "metadata": {},
   "outputs": [
    {
     "data": {
      "text/plain": [
       "<matplotlib.collections.PathCollection at 0x1c17fa44a8>"
      ]
     },
     "execution_count": 27,
     "metadata": {},
     "output_type": "execute_result"
    },
    {
     "data": {
      "image/png": "[encoded data removed]",
      "text/plain": [
       "<Figure size 432x288 with 1 Axes>"
      ]
     },
     "metadata": {
      "needs_background": "light"
     },
     "output_type": "display_data"
    }
   ],
   "source": [
    "plt.scatter(y_hat,pi_hat)"
   ]
  },
  {
   "cell_type": "markdown",
   "metadata": {},
   "source": [
    "**Quesiton 6:** Use a numerical optimizer to choose $\\sigma_x>0$, $\\sigma_c>0$ and $\\phi\\in(0,1)$ to make the simulated statistics as close as possible to US business cycle data where:\n",
    "\n",
    "1. $var(y_t) = 1.64$\n",
    "2. $var(\\pi_t) = 0.21$\n",
    "3. $corr(y_t,\\pi_t) = 0.31$\n",
    "4. $corr(y_t,y_{t-1}) = 0.84$\n",
    "5. $corr(\\pi_t,\\pi_{t-1}) = 0.48$"
   ]
  },
  {
   "cell_type": "markdown",
   "metadata": {},
   "source": [
    "# 3. Exchange economy"
   ]
  },
  {
   "cell_type": "markdown",
   "metadata": {},
   "source": [
    "Consider an **exchange economy** with\n",
    "\n",
    "1. 3 goods, $(x_1,x_2,x_3)$\n",
    "2. $N$ consumers indexed by \\\\( j \\in \\{1,2,\\dots,N\\} \\\\)\n",
    "3. Preferences are Cobb-Douglas with log-normally distributed coefficients\n",
    "\n",
    "    $$ \\begin{eqnarray*}\n",
    "    u^{j}(x_{1},x_{2},x_{3}) &=& \n",
    "    \\left(x_{1}^{\\beta_{1}^{j}}x_{2}^{\\beta_{2}^{j}}x_{3}^{\\beta_{3}^{j}}\\right)^{\\gamma}\\\\\n",
    "     &  & \\,\\,\\,\\beta_{i}^{j}=\\frac{\\alpha_{i}^{j}}{\\alpha_{1}^{j}+\\alpha_{2}^{j}+\\alpha_{3}^{j}} \\\\\n",
    "     &  & \\,\\,\\,\\boldsymbol{\\alpha}^{j}=(\\alpha_{1}^{j},\\alpha_{2}^{j},\\alpha_{3}^{j}) \\\\ \n",
    "     &  & \\,\\,\\,\\log(\\boldsymbol{\\alpha}^j) \\sim \\mathcal{N}(\\mu,\\Sigma) \\\\\n",
    "    \\end{eqnarray*} $$\n",
    "\n",
    "4. Endowments are exponentially distributed,\n",
    "\n",
    "$$\n",
    "\\begin{eqnarray*}\n",
    "\\boldsymbol{e}^{j} &=& (e_{1}^{j},e_{2}^{j},e_{3}^{j}) \\\\\n",
    " &  & e_i^j \\sim f, f(z;\\zeta) =  1/\\zeta \\exp(-z/\\zeta)\n",
    "\\end{eqnarray*}\n",
    "$$"
   ]
  },
  {
   "cell_type": "markdown",
   "metadata": {},
   "source": [
    "Let $p_3 = 1$ be the **numeraire**. The implied **demand functions** are:\n",
    "\n",
    "$$\n",
    "\\begin{eqnarray*}\n",
    "x_{i}^{\\star j}(p_{1},p_{2},\\boldsymbol{e}^{j})&=&\\beta^{j}_i\\frac{I^j}{p_{i}} \\\\\n",
    "\\end{eqnarray*}\n",
    "$$\n",
    "\n",
    "where consumer $j$'s income is\n",
    "\n",
    "$$I^j = p_1 e_1^j + p_2 e_2^j +p_3 e_3^j$$"
   ]
  },
  {
   "cell_type": "markdown",
   "metadata": {},
   "source": [
    "The **parameters** and **random preferences and endowments** are given by:"
   ]
  },
  {
   "cell_type": "code",
   "execution_count": 7,
   "metadata": {},
   "outputs": [],
   "source": [
    "# a. parameters\n",
    "N = 50000\n",
    "mu = np.array([3,2,1])\n",
    "Sigma = np.array([[0.25, 0, 0], [0, 0.25, 0], [0, 0, 0.25]])\n",
    "gamma = 0.8\n",
    "zeta = 1\n",
    "\n",
    "# b. random draws\n",
    "seed = 1986\n",
    "np.random.seed(seed)\n",
    "\n",
    "# preferences\n",
    "alphas = np.exp(np.random.multivariate_normal(mu, Sigma, size=N))\n",
    "betas = alphas/np.reshape(np.sum(alphas,axis=1),(N,1))\n",
    "\n",
    "# endowments\n",
    "e1 = np.random.exponential(zeta,size=N)\n",
    "e2 = np.random.exponential(zeta,size=N)\n",
    "e3 = np.random.exponential(zeta,size=N)"
   ]
  },
  {
   "cell_type": "markdown",
   "metadata": {},
   "source": [
    "**Question 1:** Plot the histograms of the budget shares for each good across agents.\n",
    "\n",
    "Consider the **excess demand functions:**\n",
    "\n",
    "$$ z_i(p_1,p_2) = \\sum_{j=1}^N x_{i}^{\\star j}(p_{1},p_{2},\\boldsymbol{e}^{j}) - e_i^j$$\n",
    "\n",
    "**Question 2:** Plot the excess demand functions."
   ]
  },
  {
   "cell_type": "markdown",
   "metadata": {},
   "source": [
    "**Quesiton 3:** Find the Walras-equilibrium prices, $(p_1,p_2)$, where both excess demands are (approximately) zero, e.g. by using the following tâtonnement process:\n",
    "\n",
    "1. Guess on $p_1 > 0$, $p_2 > 0$ and choose tolerance $\\epsilon > 0$ and adjustment aggressivity parameter, $\\kappa > 0$.\n",
    "2. Calculate $z_1(p_1,p_2)$ and $z_2(p_1,p_2)$.\n",
    "3. If $|z_1| < \\epsilon$ and $|z_2| < \\epsilon$ then stop.\n",
    "4. Else set $p_1 = p_1 + \\kappa \\frac{z_1}{N}$ and $p_2 = p_2 + \\kappa \\frac{z_2}{N}$ and return to step 2."
   ]
  },
  {
   "cell_type": "markdown",
   "metadata": {},
   "source": [
    "**Question 4:** Plot the distribution of utility in the Walras-equilibrium and calculate its mean and variance."
   ]
  },
  {
   "cell_type": "markdown",
   "metadata": {},
   "source": [
    "**Question 5:** Find the Walras-equilibrium prices if instead all endowments were distributed equally. Discuss the implied changes in the distribution of utility. Does the value of $\\gamma$ play a role for your conclusions?"
   ]
  }
 ],
 "metadata": {
  "kernelspec": {
   "display_name": "Python 3",
   "language": "python",
   "name": "python3"
  },
  "language_info": {
   "codemirror_mode": {
    "name": "ipython",
    "version": 3
   },
   "file_extension": ".py",
   "mimetype": "text/x-python",
   "name": "python",
   "nbconvert_exporter": "python",
   "pygments_lexer": "ipython3",
   "version": "3.7.1"
  },
  "toc-autonumbering": false
 },
 "nbformat": 4,
 "nbformat_minor": 2
}
