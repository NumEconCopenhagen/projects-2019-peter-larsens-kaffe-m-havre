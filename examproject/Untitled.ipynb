{
 "cells": [
  {
   "cell_type": "code",
   "execution_count": null,
   "metadata": {},
   "outputs": [],
   "source": []
  },
  {
   "cell_type": "code",
   "execution_count": 1,
   "metadata": {},
   "outputs": [],
   "source": [
    "import numpy as np\n",
    "rho = 2\n",
    "beta = 0.96\n",
    "gamma = 0.1\n",
    "w = 2\n",
    "b = 1\n",
    "Delta = 0.1\n",
    "\n",
    "h_vec = np.linspace(0.1,1.5,100) \n",
    "\n",
    "import matplotlib.pyplot as plt\n",
    "\n"
   ]
  },
  {
   "cell_type": "code",
   "execution_count": 2,
   "metadata": {},
   "outputs": [
    {
     "data": {
      "text/plain": [
       "Text(0.5, 1.0, 'Labor supply as a function of human capital in period 2')"
      ]
     },
     "execution_count": 2,
     "metadata": {},
     "output_type": "execute_result"
    },
    {
     "data": {
      "image/png": "[encoded data removed]",
      "text/plain": [
       "<Figure size 432x288 with 1 Axes>"
      ]
     },
     "metadata": {
      "needs_background": "light"
     },
     "output_type": "display_data"
    }
   ],
   "source": [
    "def utility(c, rho): \n",
    "    return c**(1-rho)/(1-rho)\n",
    "\n",
    "def disutility(gamma, l2):\n",
    "    return gamma*l2 \n",
    "\n",
    "def cons(w, h, b, l):\n",
    "    return w*h*l + b*(1-l)\n",
    "\n",
    "def v2(h2, l2, rho, gamma, w, b): \n",
    "    return utility(cons(w, h2, b, l2), rho) - disutility(gamma, l2) \n",
    "\n",
    "def v1(l1, w, b, rho, gamma, h1, Delta, beta): # Total utility of the agent. \n",
    "    #We calculate the expected total utility of the agant in period 2\n",
    "    \n",
    "    h2_low = h1 + l1\n",
    "    v2_low = v2_interp([h2_low])[0]\n",
    "    \n",
    "    # v2 if Delta extra human capital\n",
    "    h2_high = h1 + l1 + Delta\n",
    "    v2_high = v2_interp([h2_high])[0]\n",
    "    \n",
    "    # expected v2 value\n",
    "    v2 = 0.5*v2_low + 0.5*v2_high\n",
    "    \n",
    "    # total value\n",
    "    return utility(cons(w, h1, b, l1), rho) - disutility(gamma, l1) + beta*v2\n",
    "\n",
    "\n",
    "def sp2(rho, w, b, h_vec, gamma, Delta):\n",
    "    # Solves period 2. \n",
    "    #Total utility of not working is greater than the total utility of not working, returns labor that max v2 \n",
    "    \n",
    "    # Specifies the grids\n",
    "\n",
    "    l2_vec = np.empty(100, dtype=int)\n",
    "    v2_vec = np.empty(100)  \n",
    "    \n",
    "    for i,h in enumerate(h_vec):\n",
    "        if (v2(h, 0, rho, gamma, w, b) > v2(h, 1, rho, gamma, w, b)): \n",
    "            l2_vec[i] = 0\n",
    "        else:\n",
    "            l2_vec[i] = 1\n",
    "    return v2_vec, l2_vec\n",
    "\n",
    "v2_vec, l2_vec = sp2(rho, w, b, h_vec, gamma, Delta)\n",
    "fig = plt.figure()\n",
    "ax = fig.add_subplot(1, 1, 1)\n",
    "ax.plot(h_vec, l2_vec)\n",
    "ax.grid()\n",
    "ax.set_ylabel(\"Labor supply\")\n",
    "ax.set_xlabel(\"Human capital\")\n",
    "ax.set_title(\"Labor supply as a function of human capital in period 2\")"
   ]
  },
  {
   "cell_type": "code",
   "execution_count": null,
   "metadata": {},
   "outputs": [],
   "source": []
  }
 ],
 "metadata": {
  "kernelspec": {
   "display_name": "Python 3",
   "language": "python",
   "name": "python3"
  },
  "language_info": {
   "codemirror_mode": {
    "name": "ipython",
    "version": 3
   },
   "file_extension": ".py",
   "mimetype": "text/x-python",
   "name": "python",
   "nbconvert_exporter": "python",
   "pygments_lexer": "ipython3",
   "version": "3.7.1"
  }
 },
 "nbformat": 4,
 "nbformat_minor": 2
}
