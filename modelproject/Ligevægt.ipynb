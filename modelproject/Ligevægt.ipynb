{
 "cells": [
  {
   "cell_type": "markdown",
   "metadata": {},
   "source": [
    "# Market Equilibrium under different market forms"
   ]
  },
  {
   "cell_type": "markdown",
   "metadata": {},
   "source": [
    "Import various packages"
   ]
  },
  {
   "cell_type": "code",
   "execution_count": 9,
   "metadata": {},
   "outputs": [],
   "source": [
    "import numpy as np\n",
    "import scipy as sp\n",
    "from scipy import linalg\n",
    "from scipy import optimize\n",
    "from scipy import interpolate\n",
    "import sympy as sm\n",
    "\n",
    "%matplotlib inline\n",
    "import matplotlib.pyplot as plt\n",
    "from matplotlib import cm\n",
    "from mpl_toolkits.mplot3d import Axes3D"
   ]
  },
  {
   "cell_type": "markdown",
   "metadata": {},
   "source": [
    "# Model Description"
   ]
  },
  {
   "cell_type": "markdown",
   "metadata": {},
   "source": [
    "We consider the standard economic promlem for a Monopoly firm maximizing it's profits.\n",
    "\n",
    "The aggregate market demand is given by\n",
    "$$Q(p)=A-\\alpha\\cdot p$$\n",
    "which corresponds to the inverse market demand function\n",
    "$$p(Q)=\\frac{A}{\\alpha}-\\frac{1}{\\alpha}\\cdot Q$$\n",
    "\n",
    "and the Monopoly profits are given $$\\pi(q)=p\\cdot q-c(q)=\\left(\\frac{A}{\\alpha}-\\frac{1}{\\alpha}\\cdot q\\right)\\cdot q-c\\cdot q$$\n",
    "\n",
    "where $q=Q$, $p(Q)$ is a linear market demand curve and $c(q)$ is the firms cost-function with constants cost $c$. "
   ]
  },
  {
   "cell_type": "markdown",
   "metadata": {},
   "source": [
    "# Market Equilibrium"
   ]
  },
  {
   "cell_type": "markdown",
   "metadata": {},
   "source": [
    "## Analytical Solution"
   ]
  },
  {
   "cell_type": "markdown",
   "metadata": {},
   "source": [
    "Using Sympy, we seek to find an analytical expression for the market equilibrium when one firm has monopoly power, i.e. solve the monopoly firm's maximization problem\n",
    "\n",
    "\\\\[ \\max_{q}\\pi(q)=\\max_{q} \\left(\\frac{A}{\\alpha}-\\frac{1}{\\alpha}\\cdot q\\right)\\cdot q-c\\cdot q \\\\]"
   ]
  },
  {
   "cell_type": "markdown",
   "metadata": {},
   "source": [
    "Which has the standard solution given by:\n",
    "$$q^{\\ast}=\\frac{A-\\alpha\\cdot c}{2}\\wedge p^{\\ast}=\\frac{A+\\alpha\\cdot c}{2\\cdot\\alpha}$$"
   ]
  },
  {
   "cell_type": "code",
   "execution_count": 29,
   "metadata": {},
   "outputs": [],
   "source": [
    "sm.init_printing(use_unicode=True) # sets printing on\n",
    "# Defining variables;\n",
    "A = sm.symbols('A')\n",
    "q = sm.symbols('q')\n",
    "c = sm.symbols('c')\n",
    "alpha=sm.symbols('alpha')\n"
   ]
  },
  {
   "cell_type": "code",
   "execution_count": 36,
   "metadata": {},
   "outputs": [
    {
     "data": {
      "image/png": "[encoded data removed]",
      "text/latex": [
       "$$\\frac{A}{\\alpha} - c - \\frac{2 q}{\\alpha}$$"
      ],
      "text/plain": [
       "A       2⋅q\n",
       "─ - c - ───\n",
       "α        α "
      ]
     },
     "execution_count": 36,
     "metadata": {},
     "output_type": "execute_result"
    }
   ],
   "source": [
    "Pi = (A/alpha-q/alpha)*q-c*q # Define the firms profit function\n",
    "F = sm.diff(Pi,q) # Take the first order condition\n",
    "F\n"
   ]
  },
  {
   "cell_type": "code",
   "execution_count": 37,
   "metadata": {},
   "outputs": [
    {
     "data": {
      "image/png": "[encoded data removed]",
      "text/latex": [
       "$$\\left[\\begin{matrix}\\frac{A}{2} - \\frac{\\alpha c}{2}\\\\\\frac{\\frac{A}{2} + \\frac{\\alpha c}{2}}{\\alpha}\\end{matrix}\\right]$$"
      ],
      "text/plain": [
       "⎡A   α⋅c⎤\n",
       "⎢─ - ───⎥\n",
       "⎢2    2 ⎥\n",
       "⎢       ⎥\n",
       "⎢A   α⋅c⎥\n",
       "⎢─ + ───⎥\n",
       "⎢2    2 ⎥\n",
       "⎢───────⎥\n",
       "⎣   α   ⎦"
      ]
     },
     "execution_count": 37,
     "metadata": {},
     "output_type": "execute_result"
    }
   ],
   "source": [
    "Mq = sm.solve(F,q)[0] # Solves for market quantiy\n",
    "# And the market price is given by;\n",
    "Mp=(A-Mq)*1/alpha\n",
    "sm.Matrix([Mq,Mp]) # Prints the market quanty and price\n"
   ]
  },
  {
   "cell_type": "code",
   "execution_count": 35,
   "metadata": {},
   "outputs": [],
   "source": [
    "#For later use, We turn the above solution into a Python function\n",
    "Mq_func = sm.lambdify((A,alpha,c),Mq)\n",
    "Mp_func = sm.lambdify((A,alpha,c),Mp)"
   ]
  },
  {
   "cell_type": "markdown",
   "metadata": {},
   "source": [
    "## Numerical Solution"
   ]
  },
  {
   "cell_type": "markdown",
   "metadata": {},
   "source": [
    "As a brief introduction to solving the problem numerically, we use a solver like fsolve to solve the first-order condition given the following parameter values:\n",
    "\n",
    "Remember, the first-order condition is given by:\n",
    "$$\\frac{A}{\\alpha}-c-\\frac{2q}{\\alpha}=0$$"
   ]
  },
  {
   "cell_type": "code",
   "execution_count": 50,
   "metadata": {},
   "outputs": [
    {
     "name": "stdout",
     "output_type": "stream",
     "text": [
      "analytical solution for market quanty is: 1.00\n",
      " Solution with fsolve for market quanty is: [1.]\n",
      "analytical solution for market price is: 1.50\n"
     ]
    }
   ],
   "source": [
    "A = 4\n",
    "alpha = 2 \n",
    "c = 1\n",
    "output = optimize.fsolve(lambda q: 2-q-1,0)\n",
    "print(f'analytical solution for market quanty is: {Mq_func(A,alpha,c):.2f}')\n",
    "print(f' Solution with fsolve for market quanty is: {output}')\n",
    "print(f'analytical solution for market price is: {Mp_func(A,alpha,c):.2f}')"
   ]
  },
  {
   "cell_type": "markdown",
   "metadata": {},
   "source": [
    "However for later use, It is perhaps more efficent to make Python maximize the firm's profits directly. However, as scipy only has minimization procedueres. We contunie to minimize $-\\pi(q)$, i.e. minimizing negativ profits is the same as maximizing profits. \n",
    "\n",
    "Below we first define functions for market demand and costs in python"
   ]
  },
  {
   "cell_type": "code",
   "execution_count": 58,
   "metadata": {},
   "outputs": [],
   "source": [
    "def demand(Q):\n",
    "    return A/alpha-1/alpha*Q\n",
    "\n",
    "def cost(q,c):  # c is constant marginal cost\n",
    "    return c*q"
   ]
  },
  {
   "cell_type": "code",
   "execution_count": 65,
   "metadata": {},
   "outputs": [
    {
     "name": "stdout",
     "output_type": "stream",
     "text": [
      "Optimization terminated successfully.\n",
      "         Current function value: -0.500000\n",
      "         Iterations: 25\n",
      "         Function evaluations: 50\n",
      "[1.]\n"
     ]
    }
   ],
   "source": [
    "def minus_profits(q,*args):         # we want to see profits as a function of q when we maximize profits or\n",
    "    return -(demand(q)*q-cost(q,c)) # minimize minus_profits; hence c is specified as \"*args\", when calling fmin\n",
    "                                    # we specify the c in the \"args=(c,)\"\n",
    "x0 = 0 # Initial guess\n",
    "c = 1.0 # Specify the value of the constant cost 'c'\n",
    "A=4.0 # Specify the valoue of the Constant in the market demand function Q(p)\n",
    "alpha=2.0 # Specify the  slope coefficient in Q(p)\n",
    "\n",
    "output = optimize.fmin(minus_profits,x0,args=(c,)) # note the comma in \"args(c,)\"; it needs to be there!\n",
    "print(output)"
   ]
  },
  {
   "cell_type": "markdown",
   "metadata": {},
   "source": [
    "Hence, the optimal output to produce is 1, which yields the maximum profits of $-\\cdot(-0.5)=0.5$"
   ]
  },
  {
   "cell_type": "markdown",
   "metadata": {},
   "source": [
    "# Extentions: Solving for market equilibrium in a duopoly setting"
   ]
  },
  {
   "cell_type": "markdown",
   "metadata": {},
   "source": [
    "## Market Equilibrium with Cournot Competition"
   ]
  },
  {
   "cell_type": "markdown",
   "metadata": {},
   "source": [
    "Consider the inverse demand funcion with potential diffentiated goods\n",
    "$$p_{i}(q_{i},q_{j})=1-q_{i}-bq_{j}$$\n",
    "\n",
    "where $q_1$ is firm 1's output and $q_2$ is firm 2's output. $b\\in[0,1]$\n",
    "\n",
    "Both firms have identical cost-function $c(q_i)=c\\cdot q_i$. So given cost and demand, each firm have the following profit function:\n",
    "$$\\pi_{i}(q_{i},q_{j})=p_i(q_i,q_j)q_i-c(q_i)$$,\n",
    "$i,j\\in\\{0,1\\},i\\neq j$"
   ]
  },
  {
   "cell_type": "markdown",
   "metadata": {},
   "source": [
    "### Numerical Solution"
   ]
  },
  {
   "cell_type": "code",
   "execution_count": 10,
   "metadata": {},
   "outputs": [],
   "source": [
    "def demand(q1,q2,b): # Define demand \n",
    "    return 2-q1-b*q2\n",
    "\n",
    "def cost(q,c):\n",
    "    if q == 0:\n",
    "     cost = 0\n",
    "    else:\n",
    "     cost = c*q\n",
    "    return cost"
   ]
  },
  {
   "cell_type": "code",
   "execution_count": 16,
   "metadata": {},
   "outputs": [],
   "source": [
    "def profit(q1,q2,c1,b): # Define a function for profits\n",
    "    return demand(q1,q2,b)*q1-cost(q1,c1)"
   ]
  },
  {
   "cell_type": "code",
   "execution_count": null,
   "metadata": {},
   "outputs": [],
   "source": []
  },
  {
   "cell_type": "code",
   "execution_count": null,
   "metadata": {},
   "outputs": [],
   "source": []
  },
  {
   "cell_type": "code",
   "execution_count": null,
   "metadata": {},
   "outputs": [],
   "source": [
    "\n"
   ]
  },
  {
   "cell_type": "code",
   "execution_count": null,
   "metadata": {},
   "outputs": [],
   "source": []
  },
  {
   "cell_type": "code",
   "execution_count": null,
   "metadata": {},
   "outputs": [],
   "source": []
  },
  {
   "cell_type": "markdown",
   "metadata": {},
   "source": [
    "## Market Equilibrium with Betrand Competition"
   ]
  },
  {
   "cell_type": "markdown",
   "metadata": {},
   "source": [
    "# Conclusion"
   ]
  },
  {
   "cell_type": "code",
   "execution_count": null,
   "metadata": {},
   "outputs": [],
   "source": []
  }
 ],
 "metadata": {
  "kernelspec": {
   "display_name": "Python 3",
   "language": "python",
   "name": "python3"
  },
  "language_info": {
   "codemirror_mode": {
    "name": "ipython",
    "version": 3
   },
   "file_extension": ".py",
   "mimetype": "text/x-python",
   "name": "python",
   "nbconvert_exporter": "python",
   "pygments_lexer": "ipython3",
   "version": "3.7.1"
  }
 },
 "nbformat": 4,
 "nbformat_minor": 2
}
