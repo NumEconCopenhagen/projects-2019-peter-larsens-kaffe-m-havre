{
 "cells": [
  {
   "cell_type": "markdown",
   "metadata": {},
   "source": [
    "# Market Equilibrium under different market forms"
   ]
  },
  {
   "cell_type": "markdown",
   "metadata": {},
   "source": [
    "Import various packages"
   ]
  },
  {
   "cell_type": "code",
   "execution_count": 4,
   "metadata": {},
   "outputs": [],
   "source": [
    "import numpy as np\n",
    "import scipy as sp\n",
    "from scipy import linalg\n",
    "from scipy import optimize\n",
    "from scipy import interpolate\n",
    "import sympy as sm\n",
    "from scipy import optimize,arange\n",
    "from numpy import array\n",
    "\n",
    "%matplotlib inline\n",
    "import matplotlib.pyplot as plt\n",
    "from matplotlib import cm\n",
    "from mpl_toolkits.mplot3d import Axes3D"
   ]
  },
  {
   "cell_type": "markdown",
   "metadata": {},
   "source": [
    "# Model Description"
   ]
  },
  {
   "cell_type": "markdown",
   "metadata": {},
   "source": [
    "We consider the standard economic promlem for a Monopoly firm maximizing it's profits.\n",
    "\n",
    "The aggregate market demand is given by\n",
    "$$Q(p)=A-\\alpha\\cdot p$$\n",
    "which corresponds to the inverse market demand function\n",
    "$$p(Q)=\\frac{A}{\\alpha}-\\frac{1}{\\alpha}\\cdot Q$$\n",
    "\n",
    "and the Monopoly profits are given $$\\pi(q)=p\\cdot q-c(q)=\\left(\\frac{A}{\\alpha}-\\frac{1}{\\alpha}\\cdot q\\right)\\cdot q-c\\cdot q$$\n",
    "\n",
    "where $q=Q$, $p(Q)$ is a linear market demand curve and $c(q)$ is the firms cost-function with constants cost $c$. "
   ]
  },
  {
   "cell_type": "markdown",
   "metadata": {},
   "source": [
    "# Market Equilibrium"
   ]
  },
  {
   "cell_type": "markdown",
   "metadata": {},
   "source": [
    "## Analytical Solution"
   ]
  },
  {
   "cell_type": "markdown",
   "metadata": {},
   "source": [
    "Using Sympy, we seek to find an analytical expression for the market equilibrium when one firm has monopoly power, i.e. solve the monopoly firm's maximization problem\n",
    "\n",
    "\\\\[ \\max_{q}\\pi(q)=\\max_{q} \\left(\\frac{A}{\\alpha}-\\frac{1}{\\alpha}\\cdot q\\right)\\cdot q-c\\cdot q \\\\]"
   ]
  },
  {
   "cell_type": "markdown",
   "metadata": {},
   "source": [
    "Which has the standard solution given by:\n",
    "$$q^{\\ast}=\\frac{A-\\alpha\\cdot c}{2}\\wedge p^{\\ast}=\\frac{A+\\alpha\\cdot c}{2\\cdot\\alpha}$$"
   ]
  },
  {
   "cell_type": "code",
   "execution_count": 29,
   "metadata": {},
   "outputs": [],
   "source": [
    "sm.init_printing(use_unicode=True) # sets printing on\n",
    "# Defining variables;\n",
    "A = sm.symbols('A')\n",
    "q = sm.symbols('q')\n",
    "c = sm.symbols('c')\n",
    "alpha=sm.symbols('alpha')\n"
   ]
  },
  {
   "cell_type": "code",
   "execution_count": 36,
   "metadata": {},
   "outputs": [
    {
     "data": {
      "image/png": "[encoded data removed]",
      "text/latex": [
       "$$\\frac{A}{\\alpha} - c - \\frac{2 q}{\\alpha}$$"
      ],
      "text/plain": [
       "A       2⋅q\n",
       "─ - c - ───\n",
       "α        α "
      ]
     },
     "execution_count": 36,
     "metadata": {},
     "output_type": "execute_result"
    }
   ],
   "source": [
    "Pi = (A/alpha-q/alpha)*q-c*q # Define the firms profit function\n",
    "F = sm.diff(Pi,q) # Take the first order condition\n",
    "F\n"
   ]
  },
  {
   "cell_type": "code",
   "execution_count": 37,
   "metadata": {},
   "outputs": [
    {
     "data": {
      "image/png": "[encoded data removed]",
      "text/latex": [
       "$$\\left[\\begin{matrix}\\frac{A}{2} - \\frac{\\alpha c}{2}\\\\\\frac{\\frac{A}{2} + \\frac{\\alpha c}{2}}{\\alpha}\\end{matrix}\\right]$$"
      ],
      "text/plain": [
       "⎡A   α⋅c⎤\n",
       "⎢─ - ───⎥\n",
       "⎢2    2 ⎥\n",
       "⎢       ⎥\n",
       "⎢A   α⋅c⎥\n",
       "⎢─ + ───⎥\n",
       "⎢2    2 ⎥\n",
       "⎢───────⎥\n",
       "⎣   α   ⎦"
      ]
     },
     "execution_count": 37,
     "metadata": {},
     "output_type": "execute_result"
    }
   ],
   "source": [
    "Mq = sm.solve(F,q)[0] # Solves for market quantiy\n",
    "# And the market price is given by;\n",
    "Mp=(A-Mq)*1/alpha\n",
    "sm.Matrix([Mq,Mp]) # Prints the market quanty and price\n"
   ]
  },
  {
   "cell_type": "code",
   "execution_count": 35,
   "metadata": {},
   "outputs": [],
   "source": [
    "#For later use, We turn the above solution into a Python function\n",
    "Mq_func = sm.lambdify((A,alpha,c),Mq)\n",
    "Mp_func = sm.lambdify((A,alpha,c),Mp)"
   ]
  },
  {
   "cell_type": "markdown",
   "metadata": {},
   "source": [
    "## Numerical Solution"
   ]
  },
  {
   "cell_type": "markdown",
   "metadata": {},
   "source": [
    "As a brief introduction to solving the problem numerically, we use a solver like fsolve to solve the first-order condition given the following parameter values:\n",
    "\n",
    "Remember, the first-order condition is given by:\n",
    "$$\\frac{A}{\\alpha}-c-\\frac{2q}{\\alpha}=0$$"
   ]
  },
  {
   "cell_type": "code",
   "execution_count": 50,
   "metadata": {},
   "outputs": [
    {
     "name": "stdout",
     "output_type": "stream",
     "text": [
      "analytical solution for market quanty is: 1.00\n",
      " Solution with fsolve for market quanty is: [1.]\n",
      "analytical solution for market price is: 1.50\n"
     ]
    }
   ],
   "source": [
    "A = 4\n",
    "alpha = 2 \n",
    "c = 1\n",
    "output = optimize.fsolve(lambda q: 2-q-1,0)\n",
    "print(f'analytical solution for market quanty is: {Mq_func(A,alpha,c):.2f}')\n",
    "print(f' Solution with fsolve for market quanty is: {output}')\n",
    "print(f'analytical solution for market price is: {Mp_func(A,alpha,c):.2f}')"
   ]
  },
  {
   "cell_type": "markdown",
   "metadata": {},
   "source": [
    "However for later use, It is perhaps more efficent to make Python maximize the firm's profits directly. However, as scipy only has minimization procedueres. We contunie to minimize $-\\pi(q)$, i.e. minimizing negativ profits is the same as maximizing profits. \n",
    "\n",
    "Below we first define functions for market demand and costs in python"
   ]
  },
  {
   "cell_type": "code",
   "execution_count": 58,
   "metadata": {},
   "outputs": [],
   "source": [
    "def demand(Q):\n",
    "    return A/alpha-1/alpha*Q\n",
    "\n",
    "def cost(q,c):  # c is constant marginal cost\n",
    "    return c*q"
   ]
  },
  {
   "cell_type": "code",
   "execution_count": 65,
   "metadata": {},
   "outputs": [
    {
     "name": "stdout",
     "output_type": "stream",
     "text": [
      "Optimization terminated successfully.\n",
      "         Current function value: -0.500000\n",
      "         Iterations: 25\n",
      "         Function evaluations: 50\n",
      "[1.]\n"
     ]
    }
   ],
   "source": [
    "def minus_profits(q,*args):         # we want to see profits as a function of q when we maximize profits or\n",
    "    return -(demand(q)*q-cost(q,c)) # minimize minus_profits; hence c is specified as \"*args\", when calling fmin\n",
    "                                    # we specify the c in the \"args=(c,)\"\n",
    "x0 = 0 # Initial guess\n",
    "c = 1.0 # Specify the value of the constant cost 'c'\n",
    "A=4.0 # Specify the value of the Constant in the market demand function Q(p)\n",
    "alpha=2.0 # Specify the  slope coefficient in Q(p)\n",
    "\n",
    "output = optimize.fmin(minus_profits,x0,args=(c,)) # note the comma in \"args(c,)\"; it needs to be there!\n",
    "print(output)"
   ]
  },
  {
   "cell_type": "markdown",
   "metadata": {},
   "source": [
    "Hence, the optimal output to produce is 1, which yields the maximum profits of $-\\cdot(-0.5)=0.5$"
   ]
  },
  {
   "cell_type": "markdown",
   "metadata": {},
   "source": [
    "For the specified parameter values, we have plotted the monopoly firm's profit function below."
   ]
  },
  {
   "cell_type": "code",
   "execution_count": 28,
   "metadata": {},
   "outputs": [
    {
     "data": {
      "image/png": "[encoded data removed]",
      "text/plain": [
       "<Figure size 432x288 with 1 Axes>"
      ]
     },
     "metadata": {
      "needs_background": "light"
     },
     "output_type": "display_data"
    }
   ],
   "source": [
    "# Define the expression whose roots we want to find\n",
    "\n",
    "A = 4.0 # Specify the value of the Constant in the market demand function Q(p) \n",
    "alpha = 2.0 # Specify the  slope coefficient in Q(p)\n",
    "c = 1.0 # Specify the value of the constant cost 'c'\n",
    "\n",
    "func = lambda q : (A/alpha-q/alpha)*q-c*q # Defines the profit function give using a lambda function.\n",
    "\n",
    "# Plot the profit function\n",
    "\n",
    "q = np.linspace(0, 2, 200) # Return evenly spaced numbers over a specified interval from 0 to 2 .\n",
    "\n",
    "plt.plot(q, func(q)) \n",
    "plt.axhline(y=0.5,linestyle='dashed',color='k') # creates a horizontal line in the plot at func(q)=0.5\n",
    "plt.axvline(x=1,linestyle='dashed',color='k') # creates a vertical line in the plot at  q=0.5\n",
    "plt.xlabel(\"Quanty produced q \")\n",
    "plt.ylabel(\"Firm Profits\")\n",
    "plt.grid()\n",
    "plt.title('The Monopoly Firms profit function')\n",
    "plt.show()"
   ]
  },
  {
   "cell_type": "markdown",
   "metadata": {},
   "source": [
    "# Extentions: Solving for market equilibrium in a duopoly setting"
   ]
  },
  {
   "cell_type": "markdown",
   "metadata": {},
   "source": [
    "## Market Equilibrium with Cournot Competition"
   ]
  },
  {
   "cell_type": "markdown",
   "metadata": {},
   "source": [
    "Consider the inverse demand funcion with potential diffentiated goods\n",
    "$$p_{i}(q_{i},q_{j})=1-q_{i}-bq_{j}$$\n",
    "\n",
    "where $q_1$ is firm 1's output and $q_2$ is firm 2's output. $b\\in[0,1]$\n",
    "\n",
    "Both firms have identical cost-function $c(q_i)=c\\cdot q_i$. So given cost and demand, each firm have the following profit function:\n",
    "$$\\pi_{i}(q_{i},q_{j})=p_i(q_i,q_j)q_i-c(q_i)$$,\n",
    "$i,j\\in\\{0,1\\},i\\neq j$"
   ]
  },
  {
   "cell_type": "markdown",
   "metadata": {},
   "source": [
    "### Numerical Solution"
   ]
  },
  {
   "cell_type": "code",
   "execution_count": 10,
   "metadata": {},
   "outputs": [],
   "source": [
    "def demand(q1,q2,b): # Define demand \n",
    "    return 2-q1-b*q2\n",
    "\n",
    "def cost(q,c):\n",
    "    if q == 0:\n",
    "     cost = 0\n",
    "    else:\n",
    "     cost = c*q\n",
    "    return cost"
   ]
  },
  {
   "cell_type": "code",
   "execution_count": 16,
   "metadata": {},
   "outputs": [],
   "source": [
    "def profit(q1,q2,c1,b): # Define a function for profits\n",
    "    return demand(q1,q2,b)*q1-cost(q1,c1)"
   ]
  },
  {
   "cell_type": "markdown",
   "metadata": {},
   "source": [
    "See below (test9"
   ]
  },
  {
   "cell_type": "code",
   "execution_count": 2,
   "metadata": {},
   "outputs": [],
   "source": [
    "c = 0.0\n",
    "max_N = 5\n",
    "\n",
    "def demand(q,Q_others):\n",
    "    return max(0,1-q-b*Q_others)\n",
    "\n",
    "def cost(q):\n",
    "    return c*q\n",
    "\n",
    "def profit(q,Q_others):\n",
    "    return demand(q,Q_others)*q-cost(q)"
   ]
  },
  {
   "cell_type": "code",
   "execution_count": 3,
   "metadata": {},
   "outputs": [],
   "source": [
    "# Equilibrium number of firms;\n",
    "def number_of_firms(profit,f): # profit is a function here\n",
    "    for i in range(max_N+1): # if max_N = 5, we need range (0,1,2,3,4,5) = range(max_N+1)\n",
    "        if profit(i+1)-f < 0:\n",
    "            break\n",
    "        else: continue\n",
    "    return i"
   ]
  },
  {
   "cell_type": "code",
   "execution_count": 10,
   "metadata": {},
   "outputs": [
    {
     "name": "stdout",
     "output_type": "stream",
     "text": [
      "The equilibrium price under Cournot competition with f = 0.1 equals: 0.3333333333333334\n"
     ]
    }
   ],
   "source": [
    "b = 1.0\n",
    "f=0.1\n",
    "def profit(q,Q_others):\n",
    "    return demand(q,Q_others)*q-cost(q)\n",
    "\n",
    "def reaction(Q_others):\n",
    "    q =  optimize.fminbound(lambda x, Q_others = Q_others: -profit(x,Q_others),0,1,full_output=1)\n",
    "    if q[1] > 0: # because of minus sign: fval > 0 implies that profit < 0: better produce nothing\n",
    "        q_i = 0\n",
    "    else:\n",
    "        q_i = q[0]\n",
    "    return q_i\n",
    "\n",
    "def fixed_point(vector_q):\n",
    "    total_q = sum(vector_q)\n",
    "    vector_reaction = [reaction(total_q-vector_q[i]) for i in range(len(vector_q))]\n",
    "    return vector_q-vector_reaction\n",
    "\n",
    "def profits_Cournot(n):\n",
    "    x0 = array([0.1 for i in range(n)])\n",
    "    output = optimize.root(fixed_point, x0, args=(), method='hybr', jac=None, tol=10**(-10), callback=None, options=None).x[0]\n",
    "    return profit(output,(n-1)*output)\n",
    "\n",
    "def outcome_Cournot(f):\n",
    "    n = number_of_firms(profits_Cournot,f)\n",
    "    if n == 0:\n",
    "        print(\"no firm is active, price is undetermined\")\n",
    "        price = \"n.a\"\n",
    "    else:\n",
    "        x0 = [0.1 for i in range(n)]\n",
    "        output = optimize.root(fixed_point, x0, args=(), method='hybr', jac=None, tol=10**(-10), callback=None, options=None).x[0]\n",
    "        price = demand(output,(n-1)*output)\n",
    "    return [price,output]\n",
    "\n",
    "print(\"The equilibrium price under Cournot competition with f =\", f, \"equals:\", outcome_Cournot(0.1)[0])\n"
   ]
  },
  {
   "cell_type": "code",
   "execution_count": null,
   "metadata": {},
   "outputs": [],
   "source": []
  },
  {
   "cell_type": "code",
   "execution_count": null,
   "metadata": {},
   "outputs": [],
   "source": []
  },
  {
   "cell_type": "markdown",
   "metadata": {},
   "source": [
    "## Market Equilibrium with Betrand Competition"
   ]
  },
  {
   "cell_type": "markdown",
   "metadata": {},
   "source": [
    "# Conclusion"
   ]
  },
  {
   "cell_type": "markdown",
   "metadata": {},
   "source": [
    "We see that the assumption about the market structure have a critical impact on the market equilibrium. We have shown that under the standard assumption, when there is only on firm in market, which utilizes it's monopoly power, the market equilibrium output is inefficiently low and the equilibrium price is ineffciently high from a social welfare perspective. When the number of firms increases to two, we show that the market inefficiency decreases but at different degrees depending on competition type. If the firms compete in quanties (Cournot), the market output is still lower than the social optimum, however there is still some competition between the firms, which results in a lower market price and higher market output compared to the monopoly case. Lastly, we show that when the two firms compete in prices(bertrand) the market equilibrium is parato efficient. As both firms seek to undercut the other firm resulting in both firms asking a price equal to their margianl costs (assumed identical). Hence even though their are only two firms, the market equilibrium is efficient as it is identical to social optimum with a market price equal to the marginal costs."
   ]
  },
  {
   "cell_type": "code",
   "execution_count": 3,
   "metadata": {},
   "outputs": [
    {
     "name": "stderr",
     "output_type": "stream",
     "text": [
      "/anaconda3/lib/python3.7/site-packages/ipykernel_launcher.py:10: RuntimeWarning: invalid value encountered in true_divide\n",
      "  # Remove the CWD from sys.path while we load stuff.\n"
     ]
    },
    {
     "data": {
      "image/png": "[encoded data removed]",
      "text/plain": [
       "<Figure size 432x288 with 1 Axes>"
      ]
     },
     "metadata": {
      "needs_background": "light"
     },
     "output_type": "display_data"
    }
   ],
   "source": [
    "import numpy as np\n",
    "import matplotlib.pyplot as plt\n",
    "from scipy.optimize import fsolve\n",
    "\n",
    "# Define the expression whose roots we want to find\n",
    "\n",
    "a = 0.5\n",
    "R = 1.6\n",
    "\n",
    "func = lambda tau : R - ((1.0 - np.exp(-tau))/(1.0 - np.exp(-a*tau))) \n",
    "\n",
    "# Plot it\n",
    "\n",
    "tau = np.linspace(-0.5, 1.5, 201)\n",
    "\n",
    "plt.plot(tau, func(tau))\n",
    "plt.xlabel(\"tau\")\n",
    "plt.ylabel(\"expression value\")\n",
    "plt.grid()\n",
    "plt.show()\n",
    "\n",
    "# Use the numerical solver to find the roots\n",
    "\n",
    "#tau_initial_guess = 0.5\n",
    "#tau_solution = fsolve(func, tau_initial_guess)\n",
    "\n",
    "#print(\"The solution is tau = %f\" % tau_solution)\n",
    "#print(\"at which the value of the expression is %f\" % func(tau_solution))"
   ]
  },
  {
   "cell_type": "code",
   "execution_count": null,
   "metadata": {},
   "outputs": [],
   "source": []
  }
 ],
 "metadata": {
  "kernelspec": {
   "display_name": "Python 3",
   "language": "python",
   "name": "python3"
  },
  "language_info": {
   "codemirror_mode": {
    "name": "ipython",
    "version": 3
   },
   "file_extension": ".py",
   "mimetype": "text/x-python",
   "name": "python",
   "nbconvert_exporter": "python",
   "pygments_lexer": "ipython3",
   "version": "3.7.1"
  }
 },
 "nbformat": 4,
 "nbformat_minor": 2
}
