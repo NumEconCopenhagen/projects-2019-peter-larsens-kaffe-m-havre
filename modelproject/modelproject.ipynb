{
 "cells": [
  {
   "cell_type": "code",
   "execution_count": 3,
   "metadata": {},
   "outputs": [],
   "source": [
    "import numpy as np\n",
    "from scipy import optimize\n",
    "import sympy as sm\n",
    "\n",
    "# autoreload modules when code is run\n",
    "%load_ext autoreload\n",
    "%autoreload 2\n",
    "\n",
    "# You cann load your python module as this:\n",
    "import modelproject.example"
   ]
  },
  {
   "cell_type": "code",
   "execution_count": 4,
   "metadata": {},
   "outputs": [
    {
     "data": {
      "text/plain": [
       "'hello world'"
      ]
     },
     "execution_count": 4,
     "metadata": {},
     "output_type": "execute_result"
    }
   ],
   "source": [
    "modelproject.example.hello_world()"
   ]
  },
  {
   "cell_type": "markdown",
   "metadata": {},
   "source": [
    "# Model description"
   ]
  },
  {
   "cell_type": "markdown",
   "metadata": {},
   "source": [
    "We consider the standard Solow-model with human capital where:\n",
    "\n",
    "* $K_t$ is capital\n",
    "* $L_t$ is labor (growing with a constant rate of $n$)\n",
    "* $A_t$ is technology (growing with a constant rate of $g$)\n",
    "* $H_t$ is human capital (growing with a constant rate of $\\frac{1}{3}$)\n",
    "* $Y_t = F(K_t, H_t, A_tL_t)$ is GDP\n",
    "\n",
    "**Saving** is a constant fraction of GDP\n",
    "\n",
    "$$ S_t = sY_t,\\,s\\in(0,1) $$\n",
    "\n",
    "such that **capital accumulates** according to\n",
    "\n",
    "$$ K_{t+1}=S_{K}Y_{t}+(1-\\delta)K_{t}, \\delta \\in (0,1) $$\n",
    "\n",
    "and **human capital accumalates** according to\n",
    "\n",
    "$$ H_{t+1}=S_{H}Y_{t}+(1-\\delta)H_{t}, \\delta \\in (0,1) $$\n",
    "\n",
    "The **production function** has **constant-return to scale** such that\n",
    "\n",
    "$$ \\frac{Y_{t}}{A_{t}L_{t}}=\\frac{F(K_{t},H_{t},A_{t}L_{t})}{A_{t}L_{t}}=F(\\tilde{k}_{t}, \\tilde{h}_{t},1)\\equiv f(\\tilde{k}_{t}, \\tilde{h}_{t}) $$\n",
    "\n",
    "where $\\tilde{k}_t = \\frac{K_t}{A_{t}L_{t}}$ is the technology adjusted capital-labor ratio, and\n",
    "$\\tilde{h}_t = \\frac{K_t}{A_{t}L_{t}}$ is the human capital ratio.\n",
    "\n",
    "Dividing each sides by with $A_{t+1}L_{t+1} = (1+n)(1+g)A_{t}L_{t}$ we get:\n",
    "\n",
    "$$ \\tilde{k}_{t+1}= \\frac{1}{(1+n)(1+g)}[S_{K}(\\tilde{y}_{t})+(1-\\delta)\\tilde{k}_{t}] $$\n",
    "\n",
    "$$ \\tilde{h}_{t+1}= \\frac{1}{(1+n)(1+g)}[S_{H}(\\tilde{y}_{t})+(1-\\delta)\\tilde{h}_{t}] $$\n",
    "\n",
    "Using $\\tilde{y}_{t} = \\tilde{k}_{t}^{\\alpha} \\tilde{h}_{t}^{\\phi}$ we get **the transition equations**:\n",
    "\n",
    "$$ \\tilde{k}_{t+1}= \\frac{1}{(1+n)(1+g)}[S_{K}\\tilde{k}_{t}^{\\alpha} \\tilde{h}_{t}^{\\phi}+(1-\\delta)\\tilde{k}_{t}] $$\n",
    "\n",
    "$$ \\tilde{h}_{t+1}= \\frac{1}{(1+n)(1+g)}[S_{H}\\tilde{k}_{t}^{\\alpha} \\tilde{h}_{t}^{\\phi}+(1-\\delta)\\tilde{h}_{t}] $$\n",
    "\n",
    "We assume the **production function** is **Cobb-Douglas** so\n",
    "\n",
    "$$ F(K_{t},H_{t},A_{t}L_{t})=K_{t}^{\\alpha}H_{t}^{\\phi}(A_{t}L_{t})^{1-\\alpha-\\phi}\\Rightarrow f(\\tilde{k}_{t}\\tilde{h}_{t})=\\tilde{k}_{t}^{\\alpha} \\tilde{h}_{t}^{\\phi} $$\n"
   ]
  },
  {
   "cell_type": "markdown",
   "metadata": {},
   "source": [
    "# Steady state"
   ]
  },
  {
   "cell_type": "markdown",
   "metadata": {},
   "source": [
    "We find the steady state for k and h\n",
    "\n",
    "$$ \\tilde{k}^{\\ast}= ({\\frac{1}{n+g+\\delta+ng}[S_{K}^{1-\\phi}S_{H}^{\\phi}]})^{\\frac{1}{1-\\alpha-\\phi}} $$\n",
    "\n",
    "$$ \\tilde{h}^{\\ast}= ({\\frac{1}{n+g+\\delta+ng}[S_{K}^{\\alpha}S_{H}^{1-\\alpha}]})^{\\frac{1}{1-\\alpha-\\phi}} $$\n"
   ]
  },
  {
   "cell_type": "markdown",
   "metadata": {},
   "source": [
    "## Analytical solution"
   ]
  },
  {
   "cell_type": "markdown",
   "metadata": {},
   "source": [
    "We can use **sympy** to find an analytical expression for the steady state, i.e. solve\n",
    "\n",
    "$$ \\tilde{k}^{\\ast}= ({\\frac{1}{(1+n)(1+g)}[S_{K}^{1-\\phi}S_{H}^{\\phi}]})^{\\frac{1}{1-\\alpha-\\phi}} $$\n",
    "\n",
    "$$ \\tilde{h}^{\\ast}= ({\\frac{1}{(1+n)(1+g)}[S_{K}^{\\alpha}S_{H}^{1-\\alpha}]})^{\\frac{1}{1-\\alpha-\\phi}} $$\n"
   ]
  },
  {
   "cell_type": "markdown",
   "metadata": {},
   "source": [
    "First we define all **symbols**:"
   ]
  },
  {
   "cell_type": "code",
   "execution_count": 5,
   "metadata": {},
   "outputs": [],
   "source": [
    "k = sm.symbols('k')\n",
    "alpha = sm.symbols('alpha')\n",
    "delta = sm.symbols('delta')\n",
    "s = sm.symbols('s')\n",
    "g = sm.symbols('g')\n",
    "n = sm.symbols('n')\n"
   ]
  },
  {
   "cell_type": "markdown",
   "metadata": {},
   "source": [
    "Then we define the **steady state equation**"
   ]
  },
  {
   "cell_type": "code",
   "execution_count": 6,
   "metadata": {},
   "outputs": [],
   "source": [
    "ss = sm.Eq(k,(s*k**alpha+(1-delta)*k)/((1+n)*(1+g)))"
   ]
  },
  {
   "cell_type": "markdown",
   "metadata": {},
   "source": [
    "and **solve** it"
   ]
  },
  {
   "cell_type": "code",
   "execution_count": null,
   "metadata": {},
   "outputs": [],
   "source": [
    "kss = sm.solve(ss,k)[0]\n",
    "kss"
   ]
  },
  {
   "cell_type": "markdown",
   "metadata": {},
   "source": [
    "For later use, we turn the solution into a **Python funciton**"
   ]
  },
  {
   "cell_type": "code",
   "execution_count": null,
   "metadata": {},
   "outputs": [],
   "source": [
    "ss_func = sm.lambdify((s,g,n,alpha,delta),kss)"
   ]
  },
  {
   "cell_type": "markdown",
   "metadata": {},
   "source": [
    "## Numerical solution"
   ]
  },
  {
   "cell_type": "markdown",
   "metadata": {},
   "source": [
    "We can re-write the equation for the steady state capital per capita as\n",
    "\n",
    "\\\\[ 0 = \\frac{1}{(1+n)(1+g)}[sf(\\tilde{k}^{\\ast})+(1-\\delta)\\tilde{k}^{\\ast}] - \\tilde{k}^{\\ast} \\\\]\n",
    "\n",
    "whereby it clearly becomes a **root-finding problem**. Such a problem can be solved by a **bisection method**."
   ]
  },
  {
   "cell_type": "markdown",
   "metadata": {},
   "source": [
    "Define the model **parameters**:"
   ]
  },
  {
   "cell_type": "code",
   "execution_count": null,
   "metadata": {},
   "outputs": [],
   "source": [
    "s = 0.2\n",
    "g = 0.02\n",
    "n = 0.01\n",
    "alpha = 1/3\n",
    "delta = 0.1"
   ]
  },
  {
   "cell_type": "markdown",
   "metadata": {},
   "source": [
    "**Solve numerically** for the steady state:"
   ]
  },
  {
   "cell_type": "markdown",
   "metadata": {},
   "source": [
    "solution = modelproject.solve_for_ss(s,g,n,alpha,delta)\n",
    "\n",
    "print(f'analytical solution is: {ss_func(s,g,n,alpha,delta):.3f}')\n",
    "print(f' numerical solution is: {solution.root:.3f}')"
   ]
  },
  {
   "cell_type": "markdown",
   "metadata": {},
   "source": [
    "# Further analysis"
   ]
  },
  {
   "cell_type": "markdown",
   "metadata": {},
   "source": [
    "ADD FURTHER ANALYSIS, VISUALIZATIONS AND EXTENSIONS."
   ]
  },
  {
   "cell_type": "markdown",
   "metadata": {},
   "source": [
    "# Conclusion"
   ]
  },
  {
   "cell_type": "code",
   "execution_count": null,
   "metadata": {},
   "outputs": [],
   "source": []
  }
 ],
 "metadata": {
  "kernelspec": {
   "display_name": "Python 3",
   "language": "python",
   "name": "python3"
  },
  "language_info": {
   "codemirror_mode": {
    "name": "ipython",
    "version": 3
   },
   "file_extension": ".py",
   "mimetype": "text/x-python",
   "name": "python",
   "nbconvert_exporter": "python",
   "pygments_lexer": "ipython3",
   "version": "3.7.1"
  }
 },
 "nbformat": 4,
 "nbformat_minor": 2
}
