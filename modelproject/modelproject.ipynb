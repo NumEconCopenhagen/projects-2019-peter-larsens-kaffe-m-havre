{
 "cells": [
  {
   "cell_type": "markdown",
   "metadata": {},
   "source": [
    "# Market Equilibrium under different market forms"
   ]
  },
  {
   "cell_type": "markdown",
   "metadata": {},
   "source": [
    "Import various packages"
   ]
  },
  {
   "cell_type": "code",
   "execution_count": 1,
   "metadata": {},
   "outputs": [],
   "source": [
    "import numpy as np\n",
    "import scipy as sp\n",
    "from scipy import linalg\n",
    "from scipy import optimize\n",
    "from scipy import interpolate\n",
    "import sympy as sm\n",
    "from scipy import optimize,arange\n",
    "from numpy import array\n",
    "\n",
    "%matplotlib inline\n",
    "import matplotlib.pyplot as plt\n",
    "from matplotlib import cm\n",
    "from mpl_toolkits.mplot3d import Axes3D"
   ]
  },
  {
   "cell_type": "markdown",
   "metadata": {},
   "source": [
    "# Model Description"
   ]
  },
  {
   "cell_type": "markdown",
   "metadata": {},
   "source": [
    "We consider the standard economic promlem for a Monopoly firm maximizing it's profits.\n",
    "\n",
    "The aggregate market demand is given by\n",
    "$$Q(p)=A-\\alpha\\cdot p$$\n",
    "which corresponds to the inverse market demand function\n",
    "$$p(Q)=\\frac{A}{\\alpha}-\\frac{1}{\\alpha}\\cdot Q$$\n",
    "\n",
    "and the Monopoly profits are given $$\\pi(q)=p\\cdot q-c(q)=\\left(\\frac{A}{\\alpha}-\\frac{1}{\\alpha}\\cdot q\\right)\\cdot q-c\\cdot q$$\n",
    "\n",
    "where $q=Q$, $p(Q)$ is a linear market demand curve and $c(q)$ is the firms cost-function with constant cost $c$. "
   ]
  },
  {
   "cell_type": "markdown",
   "metadata": {},
   "source": [
    "# Market Equilibrium"
   ]
  },
  {
   "cell_type": "markdown",
   "metadata": {},
   "source": [
    "## Analytical Solution"
   ]
  },
  {
   "cell_type": "markdown",
   "metadata": {},
   "source": [
    "Using Sympy, we seek to find an analytical expression for the market equilibrium when one firm has monopoly power, i.e. solve the monopoly firm's maximization problem\n",
    "\n",
    "\\\\[ \\max_{q}\\pi(q)=\\max_{q} \\left(\\frac{A}{\\alpha}-\\frac{1}{\\alpha}\\cdot q\\right)\\cdot q-c\\cdot q \\\\]"
   ]
  },
  {
   "cell_type": "markdown",
   "metadata": {},
   "source": [
    "Which has the standard solution given by:\n",
    "$$q^{M\\ast}=\\frac{A-\\alpha\\cdot c}{2}\\wedge p^{\\ast}=\\frac{A+\\alpha\\cdot c}{2\\cdot\\alpha}$$"
   ]
  },
  {
   "cell_type": "code",
   "execution_count": 2,
   "metadata": {},
   "outputs": [],
   "source": [
    "sm.init_printing(use_unicode=True) # sets printing on\n",
    "# Defining variables;\n",
    "A = sm.symbols('A')\n",
    "q = sm.symbols('q')\n",
    "c = sm.symbols('c')\n",
    "alpha=sm.symbols('alpha')\n"
   ]
  },
  {
   "cell_type": "code",
   "execution_count": 3,
   "metadata": {},
   "outputs": [
    {
     "data": {
      "image/png": "[encoded data removed]",
      "text/latex": [
       "$$\\frac{A}{\\alpha} - c - \\frac{2 q}{\\alpha}$$"
      ],
      "text/plain": [
       "A       2⋅q\n",
       "─ - c - ───\n",
       "α        α "
      ]
     },
     "execution_count": 3,
     "metadata": {},
     "output_type": "execute_result"
    }
   ],
   "source": [
    "Pi = (A/alpha-q/alpha)*q-c*q # Define the firms profit function\n",
    "F = sm.diff(Pi,q) # Take the first order condition\n",
    "F\n"
   ]
  },
  {
   "cell_type": "code",
   "execution_count": 4,
   "metadata": {},
   "outputs": [
    {
     "data": {
      "text/latex": [
       "$$\\left[\\begin{matrix}\\frac{A}{2} - \\frac{\\alpha c}{2}\\\\\\frac{\\frac{A}{2} + \\frac{\\alpha c}{2}}{\\alpha}\\end{matrix}\\right]$$"
      ],
      "text/plain": [
       "⎡A   α⋅c⎤\n",
       "⎢─ - ───⎥\n",
       "⎢2    2 ⎥\n",
       "⎢       ⎥\n",
       "⎢A   α⋅c⎥\n",
       "⎢─ + ───⎥\n",
       "⎢2    2 ⎥\n",
       "⎢───────⎥\n",
       "⎣   α   ⎦"
      ]
     },
     "execution_count": 4,
     "metadata": {},
     "output_type": "execute_result"
    }
   ],
   "source": [
    "Mq = sm.solve(F,q)[0] # Solves F for market quantity\n",
    "# And the market price is given by;\n",
    "Mp=(A-Mq)*1/alpha\n",
    "sm.Matrix([Mq,Mp]) # Prints the market quantity and price\n"
   ]
  },
  {
   "cell_type": "code",
   "execution_count": 5,
   "metadata": {},
   "outputs": [],
   "source": [
    "#For later use, We turn the above solution into a Python function\n",
    "Mq_func = sm.lambdify((A,alpha,c),Mq)\n",
    "Mp_func = sm.lambdify((A,alpha,c),Mp)"
   ]
  },
  {
   "cell_type": "markdown",
   "metadata": {},
   "source": [
    "## Numerical Solution"
   ]
  },
  {
   "cell_type": "markdown",
   "metadata": {},
   "source": [
    "As a brief introduction to solving the problem numerically, we use a solver like fsolve to solve the first-order condition given the following parameter values:\n",
    "\n",
    "Remember, the first-order condition is given by:\n",
    "$$\\frac{A}{\\alpha}-c-\\frac{2q}{\\alpha}=0$$"
   ]
  },
  {
   "cell_type": "code",
   "execution_count": 6,
   "metadata": {},
   "outputs": [
    {
     "name": "stdout",
     "output_type": "stream",
     "text": [
      "analytical solution for market quantity is: 1.00\n",
      " Solution with fsolve for market quantity is: [1.]\n",
      "analytical solution for market price is: 1.50\n"
     ]
    }
   ],
   "source": [
    "A = 4\n",
    "alpha = 2 \n",
    "c = 1\n",
    "output = optimize.fsolve(lambda q: 2-q-1,0)\n",
    "print(f'analytical solution for market quantity is: {Mq_func(A,alpha,c):.2f}')\n",
    "print(f' Solution with fsolve for market quantity is: {output}')\n",
    "print(f'analytical solution for market price is: {Mp_func(A,alpha,c):.2f}')"
   ]
  },
  {
   "cell_type": "markdown",
   "metadata": {},
   "source": [
    "However for later use, It is perhaps more efficent to make Python maximize the firm's profits directly. However, as scipy only has minimization procedueres. We continue to minimize $-\\pi(q)$, i.e. minimizing negative profits is the same as maximizing profits. \n",
    "\n",
    "Below we first define functions for market demand and costs in python"
   ]
  },
  {
   "cell_type": "code",
   "execution_count": 7,
   "metadata": {},
   "outputs": [],
   "source": [
    "def demand(Q):\n",
    "    return A/alpha-1/alpha*Q\n",
    "\n",
    "def cost(q,c):  # c is constant marginal cost\n",
    "    return c*q"
   ]
  },
  {
   "cell_type": "code",
   "execution_count": 8,
   "metadata": {},
   "outputs": [
    {
     "name": "stdout",
     "output_type": "stream",
     "text": [
      "Optimization terminated successfully.\n",
      "         Current function value: -0.500000\n",
      "         Iterations: 25\n",
      "         Function evaluations: 50\n",
      "[1.] [1.5]\n"
     ]
    }
   ],
   "source": [
    "def minus_profits(q,*args):         # we want to see profits as a function of q when we maximize profits or\n",
    "    return -(demand(q)*q-cost(q,c)) # minimize minus_profits; hence c is specified as \"*args\", when calling fmin\n",
    "                                    # we specify the c in the \"args=(c,)\"\n",
    "x0 = 0 # Initial guess\n",
    "c = 1.0 # Specify the value of the constant cost 'c'\n",
    "A=4.0 # Specify the value of the Constant in the market demand function Q(p)\n",
    "alpha=2.0 # Specify the  slope coefficient in Q(p)\n",
    "\n",
    "output = optimize.fmin(minus_profits,x0,args=(c,)) # note the comma in \"args(c,)\"; it needs to be there!\n",
    "price=A/alpha-1/alpha*output\n",
    "print(output,price)"
   ]
  },
  {
   "cell_type": "markdown",
   "metadata": {},
   "source": [
    "Hence, the optimal output is 1, which yields the maximum profits of $-\\cdot(-0.5)=0.5$"
   ]
  },
  {
   "cell_type": "markdown",
   "metadata": {},
   "source": [
    "For the specified parameter values, we have plotted the monopoly firm's profit function below."
   ]
  },
  {
   "cell_type": "code",
   "execution_count": 9,
   "metadata": {},
   "outputs": [
    {
     "data": {
      "image/png": "[encoded data removed]",
      "text/plain": [
       "<Figure size 432x288 with 1 Axes>"
      ]
     },
     "metadata": {
      "needs_background": "light"
     },
     "output_type": "display_data"
    }
   ],
   "source": [
    "# Define the expression whose roots we want to find\n",
    "\n",
    "A = 4.0 # Specify the value of the Constant in the market demand function Q(p) \n",
    "alpha = 2.0 # Specify the  slope coefficient in Q(p)\n",
    "c = 1.0 # Specify the value of the constant cost 'c'\n",
    "\n",
    "func = lambda q : (A/alpha-q/alpha)*q-c*q # Defines the profit function using a lambda function.\n",
    "\n",
    "# Plot the profit function\n",
    "\n",
    "q = np.linspace(0, 2, 200) # Return evenly spaced numbers over a specified interval from 0 to 2 .\n",
    "\n",
    "plt.plot(q, func(q)) # -minus_profits(q) could have been used instead of func(q). But we wanted to show the lambda function. \n",
    "plt.axhline(y=0.5,linestyle='dashed',color='k') # creates a horizontal line in the plot at func(q)=0.5\n",
    "plt.axvline(x=1,linestyle='dashed',color='k') # creates a vertical line in the plot at  q=0.5\n",
    "plt.xlabel(\"Quantity produced q \")\n",
    "plt.ylabel(\"Firm Profits\")\n",
    "plt.grid()\n",
    "plt.title('The Monopoly Firms profit function')\n",
    "plt.show()"
   ]
  },
  {
   "cell_type": "markdown",
   "metadata": {},
   "source": [
    "And we can plot the market equilibrium price and output in a standard diagram as shown below."
   ]
  },
  {
   "cell_type": "code",
   "execution_count": 10,
   "metadata": {},
   "outputs": [
    {
     "data": {
      "image/png": "[encoded data removed]",
      "text/plain": [
       "<Figure size 432x288 with 1 Axes>"
      ]
     },
     "metadata": {
      "needs_background": "light"
     },
     "output_type": "display_data"
    }
   ],
   "source": [
    "# Define marginal Revenue:\n",
    "def MR(Q):\n",
    "    return A/alpha-2/alpha*Q\n",
    "\n",
    "\n",
    "plt.plot(q, demand(q)) \n",
    "plt.plot(q, MR(q))\n",
    "plt.axhline(y=c,color='k') # creates a horizontal line in the plot at func(q)=0.5\n",
    "plt.axvline(x=output,ymin=0,ymax=0.73,linestyle='dashed',color='k') # creates a vertical line in the plot at  q=0.5\n",
    "plt.axhline(y=price,xmin=0, xmax=0.5,linestyle='dashed',color='k')\n",
    "plt.xlabel(\"Quantity produced q \")\n",
    "plt.ylabel(\"Price\")\n",
    "plt.grid()\n",
    "plt.title('The Demand Function')\n",
    "plt.show()"
   ]
  },
  {
   "cell_type": "markdown",
   "metadata": {},
   "source": [
    "Both plottet side by side."
   ]
  },
  {
   "cell_type": "code",
   "execution_count": 15,
   "metadata": {},
   "outputs": [
    {
     "data": {
      "text/plain": [
       "Text(0.5, 1.0, 'The Market Equilibrium')"
      ]
     },
     "execution_count": 15,
     "metadata": {},
     "output_type": "execute_result"
    },
    {
     "data": {
      "image/png": "[encoded data removed]",
      "text/plain": [
       "<Figure size 936x432 with 2 Axes>"
      ]
     },
     "metadata": {
      "needs_background": "light"
     },
     "output_type": "display_data"
    }
   ],
   "source": [
    "f = plt.figure(figsize=(13,6))\n",
    "ax = f.add_subplot(121)\n",
    "ax2 = f.add_subplot(122)\n",
    "ax.plot(q, func(q))\n",
    "ax.set_title('The Monopoly Firms profit function')\n",
    "ax.set_xlabel('Quantity Produced q')\n",
    "ax.set_ylabel('Firm Profits')\n",
    "ax.axhline(y=0.5,linestyle='dashed',color='k') # creates a horizontal line in the plot at func(q)=0.5\n",
    "ax.axvline(x=1,linestyle='dashed',color='k') # creates a vertical line in the plot at  q=0.5\n",
    "ax.set_ylim(0,)  # set a lower limit for y-axis at zero.\n",
    "ax.grid()\n",
    "\n",
    "ax2.plot(q, demand(q),label='Demand')\n",
    "ax2.plot(q,MR(q), label='Marginal Revenue')\n",
    "ax2.legend(loc='upper right') # Place the graph descriptions in the upper right corner\n",
    "ax2.grid()\n",
    "ax2.axhline(y=c,color='k', label='Marginal Cost') # creates a horizontal line in the plot at func(q)=0.5\n",
    "ax2.axvline(x=output,ymin=0,ymax=0.71,linestyle='dashed',color='k') # creates a vertical line in the plot at  q=0.5\n",
    "ax2.axhline(y=price,xmin=0, xmax=0.5,linestyle='dashed',color='k')\n",
    "ax2.set_xlabel(\"Quantity produced q \")\n",
    "ax2.set_ylabel(\"Market Price p\")\n",
    "ax2.set_ylim(0,)\n",
    "ax2.set_title('The Market Equilibrium')"
   ]
  },
  {
   "cell_type": "markdown",
   "metadata": {},
   "source": [
    "We see that when the monopoly firm is producing $q=1$, they get the maximum profits of 0.5. In the right figure, we see that the monopoly firm maximises profits in the point, where the marginal revenue curve intersect the marginal cost curve(black line). The two curves intersect at $q=1$, and the market price is $p=1.5$ as given by the demand curve.\n"
   ]
  },
  {
   "cell_type": "markdown",
   "metadata": {},
   "source": [
    "# Extentions: Solving for market equilibrium in a duopoly setting"
   ]
  },
  {
   "cell_type": "markdown",
   "metadata": {},
   "source": [
    "## Market Equilibrium with Cournot Competition"
   ]
  },
  {
   "cell_type": "markdown",
   "metadata": {},
   "source": [
    "Consider the inverse demand funcion with identical goods\n",
    "$$p(Q)=\\frac{A}{\\alpha}-\\frac{1}{\\alpha}\\cdot Q=\\frac{A}{\\alpha}-\\frac{1}{\\alpha}\\cdot(q_1+q_2)$$\n",
    "\n",
    "where $q_1$ is firm 1's output and $q_2$ is firm 2's output. $Q=q_1+q_2$. \n",
    "\n",
    "Both firms have identical cost-function $c(q_i)=c\\cdot q_i$. So given cost and demand, each firm have the following profit function:\n",
    "$$\\pi_{i}(q_{i},q_{j})=p_i(q_i,q_j)q_i-c(q_i)$$,\n",
    "$i,j\\in\\{0,1\\},i\\neq j$, which they seek to maximize."
   ]
  },
  {
   "cell_type": "markdown",
   "metadata": {},
   "source": [
    "As this is the standard Cournot problem with two firms competing in quantities, we know that in equilibrium both firms produces the same Cournot output level given by:\n",
    "$$q_1^{C}=q_2^{C}=\\frac{A-\\alpha c}{3}$$"
   ]
  },
  {
   "cell_type": "markdown",
   "metadata": {},
   "source": [
    "### Analytical Solution"
   ]
  },
  {
   "cell_type": "markdown",
   "metadata": {},
   "source": [
    "We can use **sympy** to find an analytical expression for the market equilibrium/ the Cournot Nash Equilibrium, i.e. solving for the pair $(q_1^{C},q_2^{C})$ in which both firms play a best-response to the other firms equilibrium strategy. Hence\n",
    "$$\\max_{q_{i}} \\pi_{i}(q_i,q_j^{\\ast})=\\max \\left(\\frac{A}{\\alpha}-\\frac{1}{\\alpha}\\cdot(q_i+q_j^{\\ast})-c\\right)q_i $$\n",
    "\n"
   ]
  },
  {
   "cell_type": "code",
   "execution_count": 43,
   "metadata": {},
   "outputs": [
    {
     "data": {
      "text/latex": [
       "$$\\left[\\begin{matrix}\\frac{A}{\\alpha} - c - \\frac{q_{1}}{\\alpha} - \\frac{q_{1} + q_{2}}{\\alpha}\\\\\\frac{A}{\\alpha} - c - \\frac{q_{2}}{\\alpha} - \\frac{q_{1} + q_{2}}{\\alpha}\\end{matrix}\\right]$$"
      ],
      "text/plain": [
       "⎡A       q₁   q₁ + q₂⎤\n",
       "⎢─ - c - ── - ───────⎥\n",
       "⎢α       α       α   ⎥\n",
       "⎢                    ⎥\n",
       "⎢A       q₂   q₁ + q₂⎥\n",
       "⎢─ - c - ── - ───────⎥\n",
       "⎣α       α       α   ⎦"
      ]
     },
     "execution_count": 43,
     "metadata": {},
     "output_type": "execute_result"
    }
   ],
   "source": [
    "# Defining variables;\n",
    "A = sm.symbols('A') # Constant in Q(p)\n",
    "q1 = sm.symbols('q1') # Firm 1's output\n",
    "q2 = sm.symbols('q2') # Firm 2's output\n",
    "c = sm.symbols('c') # Contant cost\n",
    "alpha=sm.symbols('alpha') # Slope coefficient in Q(p)\n",
    "\n",
    "Pi1 = (A/alpha-1/alpha*(q1+q2))*q1-c*q1 # Firm 1's profit function\n",
    "\n",
    "Pi2 = (A/alpha-1/alpha*(q1+q2))*q2-c*q2 # Frim 2's profit function\n",
    "\n",
    "F1 = sm.diff(Pi1,q1) # Take the first order condition for firm 1\n",
    "F2 = sm.diff(Pi2,q2) # Take the first order condition for firm 2\n",
    "sm.Matrix([F1,F2]) # Prints the first order conditions"
   ]
  },
  {
   "cell_type": "code",
   "execution_count": 44,
   "metadata": {},
   "outputs": [
    {
     "data": {
      "image/png": "[encoded data removed]",
      "text/latex": [
       "$$\\frac{A}{2} - \\frac{\\alpha c}{2} - \\frac{q_{1}}{2}$$"
      ],
      "text/plain": [
       "A   α⋅c   q₁\n",
       "─ - ─── - ──\n",
       "2    2    2 "
      ]
     },
     "execution_count": 44,
     "metadata": {},
     "output_type": "execute_result"
    }
   ],
   "source": [
    "Cq2 = sm.solve(F2,q2)[0] # Solves Firm 2's FOC for q2.\n",
    "Cq2"
   ]
  },
  {
   "cell_type": "code",
   "execution_count": 45,
   "metadata": {},
   "outputs": [
    {
     "data": {
      "image/png": "[encoded data removed]",
      "text/latex": [
       "$$A - \\alpha c - 2 q_{1}$$"
      ],
      "text/plain": [
       "A - α⋅c - 2⋅q₁"
      ]
     },
     "execution_count": 45,
     "metadata": {},
     "output_type": "execute_result"
    }
   ],
   "source": [
    "Cq1 = sm.solve(F1,q2)[0] # Solves Firm 1's FOC for q2.\n",
    "Cq1"
   ]
  },
  {
   "cell_type": "code",
   "execution_count": 46,
   "metadata": {},
   "outputs": [
    {
     "data": {
      "image/png": "[encoded data removed]",
      "text/latex": [
       "$$\\frac{A}{3} - \\frac{\\alpha c}{3}$$"
      ],
      "text/plain": [
       "A   α⋅c\n",
       "─ - ───\n",
       "3    3 "
      ]
     },
     "execution_count": 46,
     "metadata": {},
     "output_type": "execute_result"
    }
   ],
   "source": [
    "CON=sm.solve(Cq1-Cq2,q1)[0] # In Eq Cq1=Cq2, so solve  Cq1=Cq2=0 for q1\n",
    "CON"
   ]
  },
  {
   "cell_type": "markdown",
   "metadata": {},
   "source": [
    "Given the standard symmetry argument, we know that both firms produce the same in equilibrium. Hence\n",
    "$$q_1^{C}=q_2^{C}=\\frac{A-\\alpha c}{3}$$\n",
    "as given above.\n",
    "\n",
    "The total market quantity and price are found below."
   ]
  },
  {
   "cell_type": "code",
   "execution_count": 47,
   "metadata": {},
   "outputs": [
    {
     "data": {
      "text/latex": [
       "$$\\left[\\begin{matrix}\\frac{2 A}{3} - \\frac{2 \\alpha c}{3}\\\\\\frac{\\frac{A}{3} + \\frac{2 \\alpha c}{3}}{\\alpha}\\end{matrix}\\right]$$"
      ],
      "text/plain": [
       "⎡2⋅A   2⋅α⋅c⎤\n",
       "⎢─── - ─────⎥\n",
       "⎢ 3      3  ⎥\n",
       "⎢           ⎥\n",
       "⎢ A   2⋅α⋅c ⎥\n",
       "⎢ ─ + ───── ⎥\n",
       "⎢ 3     3   ⎥\n",
       "⎢ ───────── ⎥\n",
       "⎣     α     ⎦"
      ]
     },
     "execution_count": 47,
     "metadata": {},
     "output_type": "execute_result"
    }
   ],
   "source": [
    "MCQ = 2*CON  #  market quantiy\n",
    "# And the market price is given by;\n",
    "MCP=(A-MCQ)*1/alpha\n",
    "sm.Matrix([MCQ,MCP]) # Prints the market quantity and price"
   ]
  },
  {
   "cell_type": "markdown",
   "metadata": {},
   "source": [
    "These can again by turned into python-functions to compare the analytical solution with the numerical solution"
   ]
  },
  {
   "cell_type": "code",
   "execution_count": 18,
   "metadata": {},
   "outputs": [],
   "source": [
    "CON_func = sm.lambdify((A,alpha,c),CON) # Cournot quantity\n",
    "MCP_func = sm.lambdify((A,alpha,c),MCP) # Market price"
   ]
  },
  {
   "cell_type": "markdown",
   "metadata": {},
   "source": [
    "### Numerical Solution"
   ]
  },
  {
   "cell_type": "code",
   "execution_count": 19,
   "metadata": {},
   "outputs": [],
   "source": [
    "def demand(q1,q2,b): # Define demand \n",
    "    return A/alpha-1/alpha*(q1+b*q2) # b is in place to allow for potential heterogeneous goods.\n",
    "\n",
    "def cost(q,c):\n",
    "    if q == 0:\n",
    "     cost = 0\n",
    "    else:\n",
    "     cost = c*q\n",
    "    return cost"
   ]
  },
  {
   "cell_type": "code",
   "execution_count": 20,
   "metadata": {},
   "outputs": [],
   "source": [
    "def profit(q1,q2,c1,b): # Define a function for profits\n",
    "    return demand(q1,q2,b)*q1-cost(q1,c1)"
   ]
  },
  {
   "cell_type": "markdown",
   "metadata": {},
   "source": [
    "Define reaction functions.\n",
    "\n",
    "As we know scipy has various methods to optimize function. However as they are defined as minimization problems, maximizing a function $f(x)$ is the same as minimzing $-f(x)$."
   ]
  },
  {
   "cell_type": "code",
   "execution_count": 21,
   "metadata": {},
   "outputs": [],
   "source": [
    "def reaction(q2,c1,b):\n",
    "    q1 = optimize.brute(lambda q: -profit(q,q2,c1,b), ((0,1,),)) # brute minimizes the function;\n",
    "                                                                 # when we minimize -profits, we maximize profits\n",
    "    return q1[0]"
   ]
  },
  {
   "cell_type": "markdown",
   "metadata": {},
   "source": [
    "A solution method which can be used to solve many economic problems to find the Nash equilibrium, is to solve for the equilibirum as fixed point.\n",
    "\n",
    "Hence we are looking for a fixed point in which the following is true.\n",
    "$$\\left(\\begin{matrix}\n",
    "           q_{1}^{\\ast} \\\\\n",
    "           q_{2}^{\\ast} \n",
    "         \\end{matrix}\\right)=\\left(\\begin{matrix}\n",
    "           r_{1}(q_2^{\\ast}) \\\\\n",
    "           r_{2}(q_1^{\\ast}) \n",
    "         \\end{matrix}\\right) \n",
    "        $$\n",
    " \n",
    "where $r_1(q_2)$ is firm 1's reaction-function to firm 2's production level and vice versa.\n",
    "\n",
    "Numerically this can be solved by defining a vector function:\n",
    "$$f(q)=\\left(\\begin{matrix}\n",
    "           r_{1}(q_2^{\\ast}) \\\\\n",
    "           r_{2}(q_1^{\\ast}) \n",
    "         \\end{matrix}\\right)$$\n",
    "and solve for a point $q^{\\ast}=(q_1^{\\ast},q_2^{\\ast})$ such that $f(q^{\\ast})=q^{\\ast}$ \n",
    "\n",
    "We then define a function defined as $x-f(x)$ and look for the solution $x^{\\ast}-f(x^{\\ast})=0$"
   ]
  },
  {
   "cell_type": "code",
   "execution_count": 22,
   "metadata": {},
   "outputs": [],
   "source": [
    "def vector_reaction(q,param): # vector parameters = (b,c1,c2)\n",
    "    return array(q)-array([reaction(q[1],param[1],param[0]),reaction(q[0],param[2],param[0])])"
   ]
  },
  {
   "cell_type": "code",
   "execution_count": 23,
   "metadata": {},
   "outputs": [
    {
     "name": "stdout",
     "output_type": "stream",
     "text": [
      "[0.6666581 0.6666581]\n"
     ]
    }
   ],
   "source": [
    "param = [1.0,1.0,1.0] # Specify the parameters (b,c1,c2)\n",
    "q0 = [0.3, 0.3] # Initial guess for quantities\n",
    "alpha=2\n",
    "A=4\n",
    "ans = optimize.fsolve(vector_reaction, q0, args = (param))\n",
    "print(ans)"
   ]
  },
  {
   "cell_type": "code",
   "execution_count": 24,
   "metadata": {},
   "outputs": [
    {
     "name": "stdout",
     "output_type": "stream",
     "text": [
      "analytical solution for Cournot quanty is: 0.67\n",
      "analytical solution for market price is: 1.33\n",
      " Solution with fsolve for market quanty is: [0.6666581 0.6666581]\n"
     ]
    }
   ],
   "source": [
    "A = 4\n",
    "alpha = 2 \n",
    "c = 1\n",
    "print(f'analytical solution for Cournot quanty is: {CON_func(A,alpha,c):.2f}')\n",
    "print(f'analytical solution for market price is: {MCP_func(A,alpha,c):.2f}')\n",
    "print(f' Solution with fsolve for market quanty is: {ans}')\n"
   ]
  },
  {
   "cell_type": "markdown",
   "metadata": {},
   "source": [
    "And we see that the numerical solution for the market quantity is fairly close to the analytical solution at $q_1^{C}=q_2^{C}=\\frac{2}{3}$"
   ]
  },
  {
   "cell_type": "markdown",
   "metadata": {},
   "source": [
    "Below we illustrate the equilibrium quantities visually by plotting the two firms reaction functions/best-response functions. The equilibrium quantities is found in the point in which they intersect."
   ]
  },
  {
   "cell_type": "code",
   "execution_count": 25,
   "metadata": {},
   "outputs": [
    {
     "data": {
      "image/png": "[encoded data removed]",
      "text/latex": [
       "$$\\left ( 0, \\quad 2\\right )$$"
      ],
      "text/plain": [
       "(0, 2)"
      ]
     },
     "execution_count": 25,
     "metadata": {},
     "output_type": "execute_result"
    },
    {
     "data": {
      "image/png": "[encoded data removed]",
      "text/plain": [
       "<Figure size 432x288 with 1 Axes>"
      ]
     },
     "metadata": {
      "needs_background": "light"
     },
     "output_type": "display_data"
    }
   ],
   "source": [
    "# Define the expression whose roots we want to find\n",
    "\n",
    "A = 4.0 # Specify the value of the Constant in the market demand function Q(p) \n",
    "alpha = 2.0 # Specify the  slope coefficient in Q(p)\n",
    "c = 1 # Specify the value of the constant cost 'c'\n",
    "\n",
    "func1 = lambda q : 1/2*(A-alpha*c-q) # Defines the best-response function for firm 1using a lambda function.\n",
    "func2 = lambda q : A-alpha*c-2*q\n",
    "\n",
    "# Plot the profit function\n",
    "\n",
    "q = np.linspace(0, 5, 200) # Return evenly spaced numbers over a specified interval from 0 to 2 .\n",
    "\n",
    "plt.clf()\n",
    "plt.plot(q, func1(q),'-', color = 'r', linewidth = 2)\n",
    "plt.plot(q,func2(q),'-', color = 'b', linewidth = 2)\n",
    "plt.title(\"Cournot Nash Equilibrium\",fontsize = 15)\n",
    "plt.xlabel(\"$q_1$\",fontsize = 15)\n",
    "plt.ylabel(\"$q_2$\",fontsize = 15,rotation = 90)\n",
    "plt.axvline(x=CON_func(A,alpha,c),ymin=0,ymax=1/3,linestyle='dashed',color='k') # creates a vertical line in the plot at  q=2/3\n",
    "plt.axhline(y=CON_func(A,alpha,c),xmin=0,xmax=1/3,linestyle='dashed',color='k') # creates a horizontal line in the plot at  q=2/3\n",
    "\n",
    "plt.annotate('$R_2(q_1)$', xy=(1,0.5),  xycoords='data', # here we define the labels and arrows in the graph\n",
    "              xytext=(30, 50), textcoords='offset points', size = 20,\n",
    "              arrowprops=dict(arrowstyle=\"->\", linewidth = 2,\n",
    "                              connectionstyle=\"arc3,rad=.2\"),\n",
    "              )\n",
    "plt.annotate('$R_1(q_2)$', xy=(0.5,1),  xycoords='data', # here we define the labels and arrows in the graph\n",
    "              xytext=(30, 50), textcoords='offset points', size = 20,\n",
    "              arrowprops=dict(arrowstyle=\"->\", linewidth = 2,\n",
    "                              connectionstyle=\"arc3,rad=.2\"),\n",
    "              )\n",
    "plt.xlim(0,2) # sets the x-axis\n",
    "plt.ylim(0,2) # Sets the y-axis"
   ]
  },
  {
   "cell_type": "markdown",
   "metadata": {},
   "source": [
    "We see that when both firms have symmetric cost $c_1=c_2=c$ and produce homogeneous goods, both firms produce the same in the Cournot Nash equilibrium. We see that both firms individually produce less than if they have monopoly power due to the small increase in competition in the market. Hence when no collusion is possible as this is a one period static problem, the total market output is larger than the monopoly outcome and the associated market price is lower. However assuming no externalities and the standard economic assumptions, the market outcome is still inefficient seen from a social planners perspective as it is not equal to the social optimum, where all firms produce in the point in which marginal costs equal the market price."
   ]
  },
  {
   "cell_type": "markdown",
   "metadata": {},
   "source": [
    "## Market Equilibrium with Betrand Competition with differentiated goods"
   ]
  },
  {
   "cell_type": "markdown",
   "metadata": {},
   "source": [
    "Lastly we will investiate the market outcome in the duopoly setting with two firms is competing in prices rather than quanties. This competition type is called bertrand competion, and we will consinder the Betrand model with differentiated products and the standard Betrand Model of Duopoly with identical firms producing homogeneous products with the same cost-functions with constant marginal costs c.\n",
    "\n",
    "The market demand function is the same given by\n",
    "$$Q(p)=A-\\alpha\\cdot p$$\n",
    "\n",
    "However from the perspective of firm i, the consumers demand for firm i's good is:\n",
    "$$q_i(p_i,p_j)=A-p_i+b\\cdot p_j$$, $i,j\\in\\{1,2\\}, i\\neq j$, where b indicates that the goods are imperfect substitutes.\n",
    "\n",
    "The profit of firm i when choosing the price $p_i$ and firm j chooses the price $p_j$ is given by:\n",
    "$$\\pi_i(p_i,p_j)=q_i(p_i,p_j)[p_i-c]$$\n",
    "\n",
    "And the price pair $(p_1^{\\ast},p_2^{\\ast})$ constitute a Nash equilibrium if, for each firm i, the choosen price $p_i^{\\ast}$ solve the firms maximization problem, i.e.\n",
    "$$\\max_{0\\leq p_i<\\infty}\\pi_i(p_i,p_j^{\\ast})=\\max_{0\\leq p_i<\\infty}\\left[A-\\alpha\\cdot p_i+\\alpha\\cdot p_j^{\\ast}\\right][p_i-c]$$\n"
   ]
  },
  {
   "cell_type": "markdown",
   "metadata": {},
   "source": [
    "### Analytical Solution with differentiated goods"
   ]
  },
  {
   "cell_type": "markdown",
   "metadata": {},
   "source": [
    "We can use **sympy** to find an analytical expression for the market equilibrium/ the Bertrand Nash Equilibrium, i.e. solving for the pair $(p_1^{B},p_2^{B})$ for which both firms play a best-response to the other firms equilibrium strategy.\n",
    "\n",
    "As this is the standard problem, we know already that both firms will try to underbid eachother in prices until they both reach their marginal cost. Hence in equilibrium, $p_1^{B}=p_2^{B}=c$ and it is assumed that each firm produce half of the total market demand, i.e.\n",
    "$$p_1^{B}=p_2^B=\\frac{A+c}{2-b}$$\n",
    "\n",
    "Also known as the monopoly quanty"
   ]
  },
  {
   "cell_type": "code",
   "execution_count": 127,
   "metadata": {},
   "outputs": [
    {
     "data": {
      "text/latex": [
       "$$\\left[\\begin{matrix}A + b p_{2} + c - 2 p_{1}\\\\A + b p_{1} + c - 2 p_{2}\\end{matrix}\\right]$$"
      ],
      "text/plain": [
       "⎡A + b⋅p₂ + c - 2⋅p₁⎤\n",
       "⎢                   ⎥\n",
       "⎣A + b⋅p₁ + c - 2⋅p₂⎦"
      ]
     },
     "execution_count": 127,
     "metadata": {},
     "output_type": "execute_result"
    }
   ],
   "source": [
    "# Defining variables;\n",
    "A = sm.symbols('A') # Constant in Q(p)\n",
    "p1 = sm.symbols('p1') # Firm 1's price\n",
    "p2 = sm.symbols('p2') # Firm 2's price\n",
    "c = sm.symbols('c') # Contant cost\n",
    "b = sm.symbols('b') # constant reflecting that the goods are differentiated\n",
    "alpha=sm.symbols('alpha') # Slope coefficient in Q(p)\n",
    "\n",
    "Pi1 = (A-p1+b*p2)*(p1-c) # Firm 1's profit function\n",
    "\n",
    "Pi2 = (A-p2+b*p1)*(p2-c) # Firm2's profit function\n",
    "\n",
    "F1 = sm.diff(Pi1,p1) # Take the first order condition for firm 1\n",
    "F2 = sm.diff(Pi2,p2) # Take the first order condition for firm 2\n",
    "sm.Matrix([F1,F2]) # Prints the first order conditions"
   ]
  },
  {
   "cell_type": "markdown",
   "metadata": {},
   "source": [
    "We can then use the first order conditions to find the best-response functions by using sympy's solve function to solve $$F1=0$$ for $p_1$."
   ]
  },
  {
   "cell_type": "code",
   "execution_count": 128,
   "metadata": {},
   "outputs": [
    {
     "data": {
      "text/latex": [
       "$$\\left[\\begin{matrix}\\frac{A}{2} + \\frac{b p_{2}}{2} + \\frac{c}{2}\\\\\\frac{A}{2} + \\frac{b p_{1}}{2} + \\frac{c}{2}\\end{matrix}\\right]$$"
      ],
      "text/plain": [
       "⎡A   b⋅p₂   c⎤\n",
       "⎢─ + ──── + ─⎥\n",
       "⎢2    2     2⎥\n",
       "⎢            ⎥\n",
       "⎢A   b⋅p₁   c⎥\n",
       "⎢─ + ──── + ─⎥\n",
       "⎣2    2     2⎦"
      ]
     },
     "execution_count": 128,
     "metadata": {},
     "output_type": "execute_result"
    }
   ],
   "source": [
    "BR1 = sm.solve(F1,p1)[0] # Solves Firm 1's FOC for p1.\n",
    "BR2 = sm.solve(F2,p2)[0] # Solves Firm 2's FOC for p2.\n",
    "sm.Matrix([BR1,BR2]) # Prints the best-response functions "
   ]
  },
  {
   "cell_type": "markdown",
   "metadata": {},
   "source": [
    "However to solve the function in an easier way, we solve firm 2's FOC for $p_1$. Call this BR12. We know that both firm's FOC must hold in equilibrium. Hence the equilibrium price is found by solving $BR1=BR12\\Leftrightarrow BR1-BR12=0$ which can be solved sympy's solve function:"
   ]
  },
  {
   "cell_type": "code",
   "execution_count": 131,
   "metadata": {},
   "outputs": [
    {
     "data": {
      "image/png": "[encoded data removed]",
      "text/latex": [
       "$$\\frac{- A - c + 2 p_{2}}{b}$$"
      ],
      "text/plain": [
       "-A - c + 2⋅p₂\n",
       "─────────────\n",
       "      b      "
      ]
     },
     "execution_count": 131,
     "metadata": {},
     "output_type": "execute_result"
    }
   ],
   "source": [
    "BR12=sm.solve(F2,p1)[0] # Solves Firm 2's FOC for p1.\n",
    "BR12\n"
   ]
  },
  {
   "cell_type": "markdown",
   "metadata": {},
   "source": [
    "Hence both firms charge the price $p_1^{B}=p_2^{B}=-\\frac{A+c}{b-2}=\\frac{A+c}{2-b}$"
   ]
  },
  {
   "cell_type": "markdown",
   "metadata": {},
   "source": [
    "Turned into a function"
   ]
  },
  {
   "cell_type": "code",
   "execution_count": 115,
   "metadata": {},
   "outputs": [
    {
     "name": "stdout",
     "output_type": "stream",
     "text": [
      "analytical solution for Bertrand price is: 3.33\n"
     ]
    }
   ],
   "source": [
    "MP_func = sm.lambdify((A,b,c),MP) # Market price\n",
    "\n",
    "A = 4\n",
    "b = 0.5 # parameter different from 1 to indicate imperfect substitutes\n",
    "c = 1\n",
    "print(f'analytical solution for Bertrand price is: {MP_func(A,b,c):.2f}')\n"
   ]
  },
  {
   "cell_type": "markdown",
   "metadata": {},
   "source": [
    "### Numerical Solution"
   ]
  },
  {
   "cell_type": "code",
   "execution_count": 146,
   "metadata": {},
   "outputs": [
    {
     "name": "stdout",
     "output_type": "stream",
     "text": [
      " Solution with fsolve for Bertrand price is: [3.33333333]\n"
     ]
    }
   ],
   "source": [
    "A = 4\n",
    "b=0.5\n",
    "c = 1\n",
    "B1 = 1/2*(A+b*p2+c)\n",
    "B2 = 1/b*(2*p2-A-c)\n",
    "SOL = optimize.fsolve(lambda p: 1/2*(A+b*p+c)-1/b*(2*p-A-c),0)\n",
    "print(f' Solution with fsolve for Bertrand price is: {SOL:}')\n"
   ]
  },
  {
   "cell_type": "markdown",
   "metadata": {},
   "source": [
    "Thus when the firms products are imperfect substitutes, the market price is still above the firms marginal cost. Hence the market outcome is pareto inefficient, which differs from the result from the standard Betrand model with homogeneous products."
   ]
  },
  {
   "cell_type": "markdown",
   "metadata": {},
   "source": [
    "## Market Equilibrium with Betrand Competition and homogeneous goods"
   ]
  },
  {
   "cell_type": "markdown",
   "metadata": {},
   "source": [
    "The market equilibrium with betrand competition, homogeneous goods and identical firms has some interesting, nice properties. Most importantly, the equilibrium is pareto efficient equal to perfect market outcome. \n",
    "\n",
    "The market demand function is the same given by\n",
    "$$Q(p)=A-\\alpha\\cdot p$$\n",
    "\n",
    "\n",
    "Both firm compete in prices, and seek to maximize the profit function:\n",
    "$$\\max_{p_i}\\pi_i(p_i,p_j)=\n",
    "\\begin{cases}\n",
    "Q(p)\\cdot (p_i-c)  &p_j>p_i\\\\\n",
    "\\frac{Q(p)\\cdot (p_i-c)}{2}  &p_i=p_j\\\\\n",
    "0 &p_i>p_j\n",
    "\\end{cases}\n",
    "$$\n",
    "It is a standard assumption that the market is divided evenly between the two firms if the set the same price, but there is no reason why it couldn't be different in practice.\n",
    "\n",
    "Both firms have the symmetric Best-Response functions:\n",
    "$$BR_i(p_j)=\n",
    "\\begin{cases}\n",
    "p_i=p_m  &p_j>p_m\\\\\n",
    "p_i=p_j-\\epsilon  &p_i>p_j>c\\\\\n",
    "p_i=c &p_j<c\n",
    "\\end{cases}$$\n",
    "where $p_m$ is the monopoly price found in the first problem.\n",
    "\n",
    "Then with simple economic reasoning it can be shown/proven that the only strategies/set of prices $\\{p_1^{B},p_2^{B}\\}$ that can constitute a Nash Equilibrium is $(p_1^{B},p_2^{B})=(c,c)$. Because in all other cases at least one firm has an incentive to deviate. We will not prove this, but below we show it numerically. \n",
    "\n",
    "So both firms will produce half of the total market output in equilibrium, i.e. both firms produce the monopoly output:\n",
    "$$q^{B\\ast}=\\frac{A-\\alpha\\cdot c}{2}$$"
   ]
  },
  {
   "cell_type": "markdown",
   "metadata": {},
   "source": [
    "### Numerical Solution"
   ]
  },
  {
   "cell_type": "code",
   "execution_count": 4,
   "metadata": {},
   "outputs": [],
   "source": [
    "\n",
    "def total_demand(p): # total demand Q(p)\n",
    "    return A-alpha*p"
   ]
  },
  {
   "cell_type": "code",
   "execution_count": 7,
   "metadata": {},
   "outputs": [],
   "source": [
    "\n",
    "def profit(p1,p2,c1): # Define profit function depending p_1 and p_2 with af if, elif else statement\"\n",
    "    if p1 > p2:\n",
    "        profits = 0 # firm 2 takes all the market\n",
    "    elif p1 == p2:\n",
    "        profits = 0.5*total_demand(p1)*(p1-c1) # The firms split the market in two\n",
    "    else:\n",
    "        profits = total_demand(p1)*(p1-c1) # firm 1 takes all the market\n",
    "    return profits\n",
    "\n",
    "def reaction(p2,c1):  # Reaction function\n",
    "    if p2 > c1:\n",
    "        reaction = c1+0.8*(p2-c1)\n",
    "    else:\n",
    "        reaction = c1\n",
    "    return reaction"
   ]
  },
  {
   "cell_type": "code",
   "execution_count": 9,
   "metadata": {},
   "outputs": [
    {
     "name": "stdout",
     "output_type": "stream",
     "text": [
      "[2. 2.]\n"
     ]
    }
   ],
   "source": [
    "def vector_reaction(p,param): # vector param = (c1,c2)\n",
    "    return array(p)-array([reaction(p[1],param[0]),reaction(p[0],param[1])])\n",
    "\n",
    "param = [2.0,2.0] # c1 = c2 =2\n",
    "alpha=2\n",
    "A=4\n",
    "p0 = [0.5, 0.5] # initial guess: p1 = p2 = 0.5\n",
    "\n",
    "Psol = optimize.fsolve(vector_reaction, p0, args = (param))\n",
    "print(Psol) # Bertrand prices"
   ]
  },
  {
   "cell_type": "markdown",
   "metadata": {},
   "source": [
    "As should become clear from this little numerical demostration. The two firms price setting decision is in practical sense invariant to the shape of the demand curve - as long as it is downwards slopping. The two firms will regardless of the demand function try to underbid the other firm in terms of price as long as the market price is above the marginal cost c. Hence as long as there is positive profits to get in the market, both firm will try to get the entire market by setting a price just below the other. This proces will continue until the market price reach the firms marginal cost, which are assumed identical. Thus the betrand price solely depends on the value of the costs $c_1=c_2$, as the firms compete the market price $p^{B}$ down to $c_1=c_2$. Because only then, no firm has an incentive to deviate, i.e. the pair of prices ${(p_1^{B},p_2^{B}})={c}$ constitute a Nash equilibrium. This is also known as the bertrand paradox."
   ]
  },
  {
   "cell_type": "markdown",
   "metadata": {},
   "source": [
    "# Conclusion"
   ]
  },
  {
   "cell_type": "markdown",
   "metadata": {},
   "source": [
    "We see that the assumption about the market structure have a critical impact on the market equilibrium. We have shown that under the standard assumptions, when there is only one firm in the market, which utilizes it's monopoly power, the market equilibrium output is inefficiently low and the equilibrium price is ineffciently high from a social welfare perspective. When the number of firms increases to two, we show that the market inefficiency decreases but at different degrees depending on competition type. If the firms compete in quantities (Cournot), the market output is still lower than the social optimum. However there is still some competition between the firms, which results in a lower market price and higher market output compared to the monopoly case. Lastly, we show that when the two firms compete in prices(Bertrand) the market equilibrium is pareto efficient. As both firms seek to undercut the other firm resulting in both firms asking a price equal to their marginal costs (assumed identical). Hence even though there are only two firms, the market equilibrium is efficient as it is identical to social optimum with a market price equal to the marginal costs. However when allowing for the two firms to produce different goods that are imperfect substitutes, both firms raise their prices above marginal cost. Thus they earn positive profit and the market outcome is once again inefficient."
   ]
  },
  {
   "cell_type": "code",
   "execution_count": null,
   "metadata": {},
   "outputs": [],
   "source": []
  }
 ],
 "metadata": {
  "kernelspec": {
   "display_name": "Python 3",
   "language": "python",
   "name": "python3"
  },
  "language_info": {
   "codemirror_mode": {
    "name": "ipython",
    "version": 3
   },
   "file_extension": ".py",
   "mimetype": "text/x-python",
   "name": "python",
   "nbconvert_exporter": "python",
   "pygments_lexer": "ipython3",
   "version": "3.7.1"
  }
 },
 "nbformat": 4,
 "nbformat_minor": 2
}
