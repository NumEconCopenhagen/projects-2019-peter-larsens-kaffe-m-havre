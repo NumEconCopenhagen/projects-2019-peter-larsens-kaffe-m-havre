import numpy as np
from scipy import optimize
import sympy as sm